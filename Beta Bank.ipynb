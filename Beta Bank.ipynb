{
 "cells": [
  {
   "cell_type": "markdown",
   "metadata": {},
   "source": [
    "# Project: Predict Customer Churn at Beta Bank"
   ]
  },
  {
   "cell_type": "markdown",
   "metadata": {},
   "source": [
    "## Introduction \n",
    "Problem: \n",
    "Beta Bank is experiencing a constant loss of customers, which has a negative impact on its finances. It has been identified that retaining existing customers is more profitable than acquiring new ones, which is why there is a need to develop a predictive model capable of identifying those customers most likely to leave the bank in the near future.\n",
    "\n",
    "Aim:\n",
    "The main goal of this project is to build a machine learning model that can accurately predict whether a Beta Bank customer will leave the bank in the short term. The model must achieve an F1 value of at least 0.59 to be considered successful. Furthermore, the performance of the model will be evaluated using the AUC-ROC metric and compared with the F1 value."
   ]
  },
  {
   "cell_type": "markdown",
   "metadata": {},
   "source": [
    "## Import of libraries"
   ]
  },
  {
   "cell_type": "code",
   "execution_count": 72,
   "metadata": {},
   "outputs": [],
   "source": [
    "import pandas as pd\n",
    "import numpy as np\n",
    "from sklearn.model_selection import train_test_split\n",
    "from sklearn.ensemble import RandomForestRegressor\n",
    "from sklearn.metrics import mean_absolute_error\n",
    "from sklearn.metrics import mean_squared_error\n",
    "import matplotlib.pyplot as plt\n",
    "from sklearn.tree import DecisionTreeClassifier\n",
    "from sklearn.tree import DecisionTreeRegressor\n",
    "from sklearn.ensemble import RandomForestClassifier\n",
    "from sklearn.metrics import accuracy_score\n",
    "from sklearn.metrics import confusion_matrix\n",
    "from sklearn.utils import shuffle\n",
    "from sklearn.linear_model import LogisticRegression\n",
    "from sklearn.metrics import f1_score\n",
    "from sklearn.metrics import precision_score, recall_score\n",
    "from sklearn.metrics import roc_auc_score\n",
    "import statistics"
   ]
  },
  {
   "cell_type": "markdown",
   "metadata": {},
   "source": [
    "## Data loading and browsing"
   ]
  },
  {
   "cell_type": "code",
   "execution_count": 73,
   "metadata": {},
   "outputs": [
    {
     "data": {
      "text/html": [
       "<div>\n",
       "<style scoped>\n",
       "    .dataframe tbody tr th:only-of-type {\n",
       "        vertical-align: middle;\n",
       "    }\n",
       "\n",
       "    .dataframe tbody tr th {\n",
       "        vertical-align: top;\n",
       "    }\n",
       "\n",
       "    .dataframe thead th {\n",
       "        text-align: right;\n",
       "    }\n",
       "</style>\n",
       "<table border=\"1\" class=\"dataframe\">\n",
       "  <thead>\n",
       "    <tr style=\"text-align: right;\">\n",
       "      <th></th>\n",
       "      <th>RowNumber</th>\n",
       "      <th>CustomerId</th>\n",
       "      <th>Surname</th>\n",
       "      <th>CreditScore</th>\n",
       "      <th>Geography</th>\n",
       "      <th>Gender</th>\n",
       "      <th>Age</th>\n",
       "      <th>Tenure</th>\n",
       "      <th>Balance</th>\n",
       "      <th>NumOfProducts</th>\n",
       "      <th>HasCrCard</th>\n",
       "      <th>IsActiveMember</th>\n",
       "      <th>EstimatedSalary</th>\n",
       "      <th>Exited</th>\n",
       "    </tr>\n",
       "  </thead>\n",
       "  <tbody>\n",
       "    <tr>\n",
       "      <th>0</th>\n",
       "      <td>1</td>\n",
       "      <td>15634602</td>\n",
       "      <td>Hargrave</td>\n",
       "      <td>619</td>\n",
       "      <td>France</td>\n",
       "      <td>Female</td>\n",
       "      <td>42</td>\n",
       "      <td>2.0</td>\n",
       "      <td>0.00</td>\n",
       "      <td>1</td>\n",
       "      <td>1</td>\n",
       "      <td>1</td>\n",
       "      <td>101348.88</td>\n",
       "      <td>1</td>\n",
       "    </tr>\n",
       "    <tr>\n",
       "      <th>1</th>\n",
       "      <td>2</td>\n",
       "      <td>15647311</td>\n",
       "      <td>Hill</td>\n",
       "      <td>608</td>\n",
       "      <td>Spain</td>\n",
       "      <td>Female</td>\n",
       "      <td>41</td>\n",
       "      <td>1.0</td>\n",
       "      <td>83807.86</td>\n",
       "      <td>1</td>\n",
       "      <td>0</td>\n",
       "      <td>1</td>\n",
       "      <td>112542.58</td>\n",
       "      <td>0</td>\n",
       "    </tr>\n",
       "    <tr>\n",
       "      <th>2</th>\n",
       "      <td>3</td>\n",
       "      <td>15619304</td>\n",
       "      <td>Onio</td>\n",
       "      <td>502</td>\n",
       "      <td>France</td>\n",
       "      <td>Female</td>\n",
       "      <td>42</td>\n",
       "      <td>8.0</td>\n",
       "      <td>159660.80</td>\n",
       "      <td>3</td>\n",
       "      <td>1</td>\n",
       "      <td>0</td>\n",
       "      <td>113931.57</td>\n",
       "      <td>1</td>\n",
       "    </tr>\n",
       "    <tr>\n",
       "      <th>3</th>\n",
       "      <td>4</td>\n",
       "      <td>15701354</td>\n",
       "      <td>Boni</td>\n",
       "      <td>699</td>\n",
       "      <td>France</td>\n",
       "      <td>Female</td>\n",
       "      <td>39</td>\n",
       "      <td>1.0</td>\n",
       "      <td>0.00</td>\n",
       "      <td>2</td>\n",
       "      <td>0</td>\n",
       "      <td>0</td>\n",
       "      <td>93826.63</td>\n",
       "      <td>0</td>\n",
       "    </tr>\n",
       "    <tr>\n",
       "      <th>4</th>\n",
       "      <td>5</td>\n",
       "      <td>15737888</td>\n",
       "      <td>Mitchell</td>\n",
       "      <td>850</td>\n",
       "      <td>Spain</td>\n",
       "      <td>Female</td>\n",
       "      <td>43</td>\n",
       "      <td>2.0</td>\n",
       "      <td>125510.82</td>\n",
       "      <td>1</td>\n",
       "      <td>1</td>\n",
       "      <td>1</td>\n",
       "      <td>79084.10</td>\n",
       "      <td>0</td>\n",
       "    </tr>\n",
       "  </tbody>\n",
       "</table>\n",
       "</div>"
      ],
      "text/plain": [
       "   RowNumber  CustomerId   Surname  CreditScore Geography  Gender  Age  \\\n",
       "0          1    15634602  Hargrave          619    France  Female   42   \n",
       "1          2    15647311      Hill          608     Spain  Female   41   \n",
       "2          3    15619304      Onio          502    France  Female   42   \n",
       "3          4    15701354      Boni          699    France  Female   39   \n",
       "4          5    15737888  Mitchell          850     Spain  Female   43   \n",
       "\n",
       "   Tenure    Balance  NumOfProducts  HasCrCard  IsActiveMember  \\\n",
       "0     2.0       0.00              1          1               1   \n",
       "1     1.0   83807.86              1          0               1   \n",
       "2     8.0  159660.80              3          1               0   \n",
       "3     1.0       0.00              2          0               0   \n",
       "4     2.0  125510.82              1          1               1   \n",
       "\n",
       "   EstimatedSalary  Exited  \n",
       "0        101348.88       1  \n",
       "1        112542.58       0  \n",
       "2        113931.57       1  \n",
       "3         93826.63       0  \n",
       "4         79084.10       0  "
      ]
     },
     "execution_count": 73,
     "metadata": {},
     "output_type": "execute_result"
    }
   ],
   "source": [
    "#Load the data file\n",
    "df = pd.read_csv('Churn.csv')\n",
    "#Print the first 5 rows of the Dataframe\n",
    "df.head()"
   ]
  },
  {
   "cell_type": "code",
   "execution_count": 74,
   "metadata": {},
   "outputs": [
    {
     "name": "stdout",
     "output_type": "stream",
     "text": [
      "<class 'pandas.core.frame.DataFrame'>\n",
      "RangeIndex: 10000 entries, 0 to 9999\n",
      "Data columns (total 14 columns):\n",
      " #   Column           Non-Null Count  Dtype  \n",
      "---  ------           --------------  -----  \n",
      " 0   RowNumber        10000 non-null  int64  \n",
      " 1   CustomerId       10000 non-null  int64  \n",
      " 2   Surname          10000 non-null  object \n",
      " 3   CreditScore      10000 non-null  int64  \n",
      " 4   Geography        10000 non-null  object \n",
      " 5   Gender           10000 non-null  object \n",
      " 6   Age              10000 non-null  int64  \n",
      " 7   Tenure           9091 non-null   float64\n",
      " 8   Balance          10000 non-null  float64\n",
      " 9   NumOfProducts    10000 non-null  int64  \n",
      " 10  HasCrCard        10000 non-null  int64  \n",
      " 11  IsActiveMember   10000 non-null  int64  \n",
      " 12  EstimatedSalary  10000 non-null  float64\n",
      " 13  Exited           10000 non-null  int64  \n",
      "dtypes: float64(3), int64(8), object(3)\n",
      "memory usage: 1.1+ MB\n"
     ]
    }
   ],
   "source": [
    "#Analyze general information\n",
    "df.info()"
   ]
  },
  {
   "cell_type": "code",
   "execution_count": 75,
   "metadata": {},
   "outputs": [
    {
     "data": {
      "text/html": [
       "<div>\n",
       "<style scoped>\n",
       "    .dataframe tbody tr th:only-of-type {\n",
       "        vertical-align: middle;\n",
       "    }\n",
       "\n",
       "    .dataframe tbody tr th {\n",
       "        vertical-align: top;\n",
       "    }\n",
       "\n",
       "    .dataframe thead th {\n",
       "        text-align: right;\n",
       "    }\n",
       "</style>\n",
       "<table border=\"1\" class=\"dataframe\">\n",
       "  <thead>\n",
       "    <tr style=\"text-align: right;\">\n",
       "      <th></th>\n",
       "      <th>RowNumber</th>\n",
       "      <th>CustomerId</th>\n",
       "      <th>CreditScore</th>\n",
       "      <th>Age</th>\n",
       "      <th>Tenure</th>\n",
       "      <th>Balance</th>\n",
       "      <th>NumOfProducts</th>\n",
       "      <th>HasCrCard</th>\n",
       "      <th>IsActiveMember</th>\n",
       "      <th>EstimatedSalary</th>\n",
       "      <th>Exited</th>\n",
       "    </tr>\n",
       "  </thead>\n",
       "  <tbody>\n",
       "    <tr>\n",
       "      <th>count</th>\n",
       "      <td>10000.00000</td>\n",
       "      <td>1.000000e+04</td>\n",
       "      <td>10000.000000</td>\n",
       "      <td>10000.000000</td>\n",
       "      <td>9091.000000</td>\n",
       "      <td>10000.000000</td>\n",
       "      <td>10000.000000</td>\n",
       "      <td>10000.00000</td>\n",
       "      <td>10000.000000</td>\n",
       "      <td>10000.000000</td>\n",
       "      <td>10000.000000</td>\n",
       "    </tr>\n",
       "    <tr>\n",
       "      <th>mean</th>\n",
       "      <td>5000.50000</td>\n",
       "      <td>1.569094e+07</td>\n",
       "      <td>650.528800</td>\n",
       "      <td>38.921800</td>\n",
       "      <td>4.997690</td>\n",
       "      <td>76485.889288</td>\n",
       "      <td>1.530200</td>\n",
       "      <td>0.70550</td>\n",
       "      <td>0.515100</td>\n",
       "      <td>100090.239881</td>\n",
       "      <td>0.203700</td>\n",
       "    </tr>\n",
       "    <tr>\n",
       "      <th>std</th>\n",
       "      <td>2886.89568</td>\n",
       "      <td>7.193619e+04</td>\n",
       "      <td>96.653299</td>\n",
       "      <td>10.487806</td>\n",
       "      <td>2.894723</td>\n",
       "      <td>62397.405202</td>\n",
       "      <td>0.581654</td>\n",
       "      <td>0.45584</td>\n",
       "      <td>0.499797</td>\n",
       "      <td>57510.492818</td>\n",
       "      <td>0.402769</td>\n",
       "    </tr>\n",
       "    <tr>\n",
       "      <th>min</th>\n",
       "      <td>1.00000</td>\n",
       "      <td>1.556570e+07</td>\n",
       "      <td>350.000000</td>\n",
       "      <td>18.000000</td>\n",
       "      <td>0.000000</td>\n",
       "      <td>0.000000</td>\n",
       "      <td>1.000000</td>\n",
       "      <td>0.00000</td>\n",
       "      <td>0.000000</td>\n",
       "      <td>11.580000</td>\n",
       "      <td>0.000000</td>\n",
       "    </tr>\n",
       "    <tr>\n",
       "      <th>25%</th>\n",
       "      <td>2500.75000</td>\n",
       "      <td>1.562853e+07</td>\n",
       "      <td>584.000000</td>\n",
       "      <td>32.000000</td>\n",
       "      <td>2.000000</td>\n",
       "      <td>0.000000</td>\n",
       "      <td>1.000000</td>\n",
       "      <td>0.00000</td>\n",
       "      <td>0.000000</td>\n",
       "      <td>51002.110000</td>\n",
       "      <td>0.000000</td>\n",
       "    </tr>\n",
       "    <tr>\n",
       "      <th>50%</th>\n",
       "      <td>5000.50000</td>\n",
       "      <td>1.569074e+07</td>\n",
       "      <td>652.000000</td>\n",
       "      <td>37.000000</td>\n",
       "      <td>5.000000</td>\n",
       "      <td>97198.540000</td>\n",
       "      <td>1.000000</td>\n",
       "      <td>1.00000</td>\n",
       "      <td>1.000000</td>\n",
       "      <td>100193.915000</td>\n",
       "      <td>0.000000</td>\n",
       "    </tr>\n",
       "    <tr>\n",
       "      <th>75%</th>\n",
       "      <td>7500.25000</td>\n",
       "      <td>1.575323e+07</td>\n",
       "      <td>718.000000</td>\n",
       "      <td>44.000000</td>\n",
       "      <td>7.000000</td>\n",
       "      <td>127644.240000</td>\n",
       "      <td>2.000000</td>\n",
       "      <td>1.00000</td>\n",
       "      <td>1.000000</td>\n",
       "      <td>149388.247500</td>\n",
       "      <td>0.000000</td>\n",
       "    </tr>\n",
       "    <tr>\n",
       "      <th>max</th>\n",
       "      <td>10000.00000</td>\n",
       "      <td>1.581569e+07</td>\n",
       "      <td>850.000000</td>\n",
       "      <td>92.000000</td>\n",
       "      <td>10.000000</td>\n",
       "      <td>250898.090000</td>\n",
       "      <td>4.000000</td>\n",
       "      <td>1.00000</td>\n",
       "      <td>1.000000</td>\n",
       "      <td>199992.480000</td>\n",
       "      <td>1.000000</td>\n",
       "    </tr>\n",
       "  </tbody>\n",
       "</table>\n",
       "</div>"
      ],
      "text/plain": [
       "         RowNumber    CustomerId   CreditScore           Age       Tenure  \\\n",
       "count  10000.00000  1.000000e+04  10000.000000  10000.000000  9091.000000   \n",
       "mean    5000.50000  1.569094e+07    650.528800     38.921800     4.997690   \n",
       "std     2886.89568  7.193619e+04     96.653299     10.487806     2.894723   \n",
       "min        1.00000  1.556570e+07    350.000000     18.000000     0.000000   \n",
       "25%     2500.75000  1.562853e+07    584.000000     32.000000     2.000000   \n",
       "50%     5000.50000  1.569074e+07    652.000000     37.000000     5.000000   \n",
       "75%     7500.25000  1.575323e+07    718.000000     44.000000     7.000000   \n",
       "max    10000.00000  1.581569e+07    850.000000     92.000000    10.000000   \n",
       "\n",
       "             Balance  NumOfProducts    HasCrCard  IsActiveMember  \\\n",
       "count   10000.000000   10000.000000  10000.00000    10000.000000   \n",
       "mean    76485.889288       1.530200      0.70550        0.515100   \n",
       "std     62397.405202       0.581654      0.45584        0.499797   \n",
       "min         0.000000       1.000000      0.00000        0.000000   \n",
       "25%         0.000000       1.000000      0.00000        0.000000   \n",
       "50%     97198.540000       1.000000      1.00000        1.000000   \n",
       "75%    127644.240000       2.000000      1.00000        1.000000   \n",
       "max    250898.090000       4.000000      1.00000        1.000000   \n",
       "\n",
       "       EstimatedSalary        Exited  \n",
       "count     10000.000000  10000.000000  \n",
       "mean     100090.239881      0.203700  \n",
       "std       57510.492818      0.402769  \n",
       "min          11.580000      0.000000  \n",
       "25%       51002.110000      0.000000  \n",
       "50%      100193.915000      0.000000  \n",
       "75%      149388.247500      0.000000  \n",
       "max      199992.480000      1.000000  "
      ]
     },
     "execution_count": 75,
     "metadata": {},
     "output_type": "execute_result"
    }
   ],
   "source": [
    "#generate descriptive statistics for the numerical columns in the DataFrame \n",
    "df.describe()"
   ]
  },
  {
   "cell_type": "code",
   "execution_count": 76,
   "metadata": {},
   "outputs": [
    {
     "name": "stderr",
     "output_type": "stream",
     "text": [
      "/var/folders/zz/1lh114c55jj9tjb2vztk4z340000gq/T/ipykernel_31861/2842247454.py:2: FutureWarning: A value is trying to be set on a copy of a DataFrame or Series through chained assignment using an inplace method.\n",
      "The behavior will change in pandas 3.0. This inplace method will never work because the intermediate object on which we are setting values always behaves as a copy.\n",
      "\n",
      "For example, when doing 'df[col].method(value, inplace=True)', try using 'df.method({col: value}, inplace=True)' or df[col] = df[col].method(value) instead, to perform the operation inplace on the original object.\n",
      "\n",
      "\n",
      "  df['Tenure'].fillna(statistics.median(df['Tenure']), inplace=True)\n"
     ]
    }
   ],
   "source": [
    "# This line replaces all missing values (NaN) in the 'Tenure' column of the DataFrame 'df' with the median value of the 'Tenure' column. \n",
    "df['Tenure'].fillna(statistics.median(df['Tenure']), inplace=True) "
   ]
  },
  {
   "cell_type": "code",
   "execution_count": 77,
   "metadata": {},
   "outputs": [
    {
     "name": "stdout",
     "output_type": "stream",
     "text": [
      "<class 'pandas.core.frame.DataFrame'>\n",
      "RangeIndex: 10000 entries, 0 to 9999\n",
      "Data columns (total 14 columns):\n",
      " #   Column           Non-Null Count  Dtype  \n",
      "---  ------           --------------  -----  \n",
      " 0   RowNumber        10000 non-null  int64  \n",
      " 1   CustomerId       10000 non-null  int64  \n",
      " 2   Surname          10000 non-null  object \n",
      " 3   CreditScore      10000 non-null  int64  \n",
      " 4   Geography        10000 non-null  object \n",
      " 5   Gender           10000 non-null  object \n",
      " 6   Age              10000 non-null  int64  \n",
      " 7   Tenure           10000 non-null  float64\n",
      " 8   Balance          10000 non-null  float64\n",
      " 9   NumOfProducts    10000 non-null  int64  \n",
      " 10  HasCrCard        10000 non-null  int64  \n",
      " 11  IsActiveMember   10000 non-null  int64  \n",
      " 12  EstimatedSalary  10000 non-null  float64\n",
      " 13  Exited           10000 non-null  int64  \n",
      "dtypes: float64(3), int64(8), object(3)\n",
      "memory usage: 1.1+ MB\n"
     ]
    }
   ],
   "source": [
    "#Analyze general information to validate the previous step\n",
    "df.info()"
   ]
  },
  {
   "cell_type": "markdown",
   "metadata": {},
   "source": [
    "## Analisis de los datos"
   ]
  },
  {
   "cell_type": "code",
   "execution_count": 78,
   "metadata": {},
   "outputs": [
    {
     "data": {
      "text/html": [
       "<div>\n",
       "<style scoped>\n",
       "    .dataframe tbody tr th:only-of-type {\n",
       "        vertical-align: middle;\n",
       "    }\n",
       "\n",
       "    .dataframe tbody tr th {\n",
       "        vertical-align: top;\n",
       "    }\n",
       "\n",
       "    .dataframe thead th {\n",
       "        text-align: right;\n",
       "    }\n",
       "</style>\n",
       "<table border=\"1\" class=\"dataframe\">\n",
       "  <thead>\n",
       "    <tr style=\"text-align: right;\">\n",
       "      <th>Gender</th>\n",
       "      <th>Female</th>\n",
       "      <th>Male</th>\n",
       "    </tr>\n",
       "    <tr>\n",
       "      <th>Geography</th>\n",
       "      <th></th>\n",
       "      <th></th>\n",
       "    </tr>\n",
       "  </thead>\n",
       "  <tbody>\n",
       "    <tr>\n",
       "      <th>France</th>\n",
       "      <td>460</td>\n",
       "      <td>350</td>\n",
       "    </tr>\n",
       "    <tr>\n",
       "      <th>Germany</th>\n",
       "      <td>448</td>\n",
       "      <td>366</td>\n",
       "    </tr>\n",
       "    <tr>\n",
       "      <th>Spain</th>\n",
       "      <td>231</td>\n",
       "      <td>182</td>\n",
       "    </tr>\n",
       "  </tbody>\n",
       "</table>\n",
       "</div>"
      ],
      "text/plain": [
       "Gender     Female  Male\n",
       "Geography              \n",
       "France        460   350\n",
       "Germany       448   366\n",
       "Spain         231   182"
      ]
     },
     "execution_count": 78,
     "metadata": {},
     "output_type": "execute_result"
    }
   ],
   "source": [
    "# Group the DataFrame by 'Geography' and 'Gender', and sum the 'Exited' column\n",
    "geo_counts = df.groupby(['Geography', 'Gender'])['Exited'].sum().unstack()\n",
    "geo_counts"
   ]
  },
  {
   "cell_type": "code",
   "execution_count": 79,
   "metadata": {},
   "outputs": [
    {
     "data": {
      "image/png": "[encoded data removed]",
      "text/plain": [
       "<Figure size 1000x500 with 1 Axes>"
      ]
     },
     "metadata": {},
     "output_type": "display_data"
    }
   ],
   "source": [
    "# Group data by Geography and Gender, then sum the 'Exited' count for each combination\n",
    "ggeo_counts = df.groupby(['Geography', 'Gender'])['Exited'].sum().unstack()\n",
    "\n",
    "# Create a bar chart to visualize the data\n",
    "geo_counts.plot(kind=\"bar\", \n",
    "                title='Customer Churn by Geography',  # Title in English\n",
    "                xlabel='Geography', \n",
    "                ylabel='Number of Churned Customers',  # Y-axis label in English\n",
    "                stacked=True, \n",
    "                color=['lightcoral', 'skyblue'], \n",
    "                figsize=(10, 5))\n",
    "\n",
    "# Add legend with title and position it outside the plot area\n",
    "plt.legend(title='Gender', loc='upper right', bbox_to_anchor=(1.2, 1))\n",
    "\n",
    "# Rotate x-axis labels for better readability\n",
    "plt.xticks(rotation=0)\n",
    "\n",
    "# Set y-axis limits to avoid negative values and adjust upper limit if needed\n",
    "plt.ylim(0, 1000)\n",
    "\n",
    "# Add gridlines to the y-axis with dashed line style and partial transparency\n",
    "plt.grid(axis='y', linestyle='--', alpha=0.6)\n",
    "\n",
    "# Display the plot\n",
    "plt.show()"
   ]
  },
  {
   "cell_type": "markdown",
   "metadata": {},
   "source": [
    "## Data preparation"
   ]
  },
  {
   "cell_type": "code",
   "execution_count": 80,
   "metadata": {},
   "outputs": [],
   "source": [
    "#Delete columns that are not related to the target\n",
    "df = df.drop(['RowNumber','Surname'], axis=1)"
   ]
  },
  {
   "cell_type": "code",
   "execution_count": 81,
   "metadata": {},
   "outputs": [],
   "source": [
    "#Obtain Gender dummies\n",
    "var_categorical = ['Gender', 'Geography']\n",
    "df = pd.get_dummies(df, columns=var_categorical)"
   ]
  },
  {
   "cell_type": "code",
   "execution_count": 82,
   "metadata": {},
   "outputs": [],
   "source": [
    "# Select features (all columns except the target variable)\n",
    "features = df.drop(columns=['Exited'],axis=1) \n",
    "\n",
    "# Select the target variable (column to predict)\n",
    "target = df['Exited']"
   ]
  },
  {
   "cell_type": "markdown",
   "metadata": {},
   "source": [
    "It was determined that the missing data in the Tenure field may be due to:\n",
    "Missing data: Information was simply not recorded or was lost during the data collection process.\n",
    "New customers: Customers who have just opened an account may not yet have a history of fixed deposits.\n",
    "Different products: The client could have other banking products without fixed-term deposits"
   ]
  },
  {
   "cell_type": "markdown",
   "metadata": {},
   "source": [
    "## Examine class balance. Train the model without considering imbalance. Briefly describe your findings."
   ]
  },
  {
   "cell_type": "code",
   "execution_count": 83,
   "metadata": {},
   "outputs": [
    {
     "data": {
      "image/png": "[encoded data removed]",
      "text/plain": [
       "<Figure size 640x480 with 1 Axes>"
      ]
     },
     "metadata": {},
     "output_type": "display_data"
    }
   ],
   "source": [
    "# Create a histogram to visualize the distribution of the 'Exited' feature in the DataFrame 'df'\n",
    "plt.hist(df['Exited'])\n",
    "\n",
    "# Set the title of the plot for clarity\n",
    "plt.title('Histograma de clientes que se han ido del banco (Histogram of Exited Customers)')\n",
    "\n",
    "# Label the x-axis to indicate what it represents\n",
    "plt.xlabel('Abandono del banco (Exited Bank)')\n",
    "\n",
    "# Label the y-axis to indicate what it represents\n",
    "plt.ylabel('Numero de clientes (Number of Customers)')\n",
    "\n",
    "# Display the plot\n",
    "plt.show()"
   ]
  },
  {
   "cell_type": "code",
   "execution_count": 84,
   "metadata": {},
   "outputs": [],
   "source": [
    "#first separation of the data set\n",
    "# Split the data into training and validation/test sets\n",
    "features_train, features_valid_test, target_train, target_valid_test = train_test_split(\n",
    "    features, \n",
    "    target, \n",
    "    test_size=0.25, \n",
    "    random_state=12345\n",
    ")"
   ]
  },
  {
   "cell_type": "code",
   "execution_count": 85,
   "metadata": {},
   "outputs": [],
   "source": [
    "#second separation of the data set\n",
    "# Split the data into training and testing sets \n",
    "features_test, features_valid, target_test, target_valid = train_test_split(\n",
    "    features_valid_test,\n",
    "    target_valid_test,\n",
    "    test_size=0.25,\n",
    "    random_state=12345\n",
    "    )"
   ]
  },
  {
   "cell_type": "code",
   "execution_count": 86,
   "metadata": {},
   "outputs": [
    {
     "name": "stdout",
     "output_type": "stream",
     "text": [
      "Best score: 0.8576 with a n_estimators of: 16\n",
      "F1 score: 0.5074626865671642\n"
     ]
    }
   ],
   "source": [
    "# Initialize variables to track best score and best number of estimators\n",
    "best_score = 0\n",
    "best_est = 0\n",
    "\n",
    "# Loop through a range of n_estimators for Random Forest Classifier\n",
    "for est in range(1, 25):\n",
    "    # Create a Random Forest Classifier model with current n_estimators\n",
    "    model = RandomForestClassifier(random_state=12345, n_estimators=est)\n",
    "\n",
    "    # Train the model on the training data\n",
    "    model.fit(features_train, target_train)\n",
    "\n",
    "    # Make predictions on the validation data\n",
    "    predict1 = model.predict(features_valid)\n",
    "\n",
    "    # Calculate the accuracy score for the predictions\n",
    "    accuracy = accuracy_score(target_valid, predict1)\n",
    "\n",
    "    # Check if current accuracy is better than the best score so far\n",
    "    if accuracy > best_score:\n",
    "        # Update best score and corresponding number of estimators\n",
    "        best_score = accuracy\n",
    "        best_est = est\n",
    "\n",
    "# Print the results\n",
    "print('Best score:', best_score, 'with a n_estimators of:', best_est)\n",
    "print('F1 score:', f1_score(target_valid, predict1))"
   ]
  },
  {
   "cell_type": "code",
   "execution_count": 87,
   "metadata": {},
   "outputs": [
    {
     "name": "stdout",
     "output_type": "stream",
     "text": [
      "Best score: 0.8608 with a max_depth of: 5\n",
      "F1 score: 0.5876777251184835\n"
     ]
    }
   ],
   "source": [
    "# Initialize variables to track best score and depth\n",
    "best_score = 0\n",
    "best_depth = 0\n",
    "\n",
    "# Iterate through different tree depths\n",
    "for depth in range(1, 6):\n",
    "  # Create a DecisionTreeClassifier model with current depth\n",
    "  model = DecisionTreeClassifier(max_depth=depth, random_state=12345)\n",
    "\n",
    "  # Train the model on the training data\n",
    "  model.fit(features_train, target_train)\n",
    "\n",
    "  # Make predictions on the validation data\n",
    "  predict2 = model.predict(features_valid)\n",
    "\n",
    "  # Calculate accuracy score for the predictions\n",
    "  accuracy = accuracy_score(target_valid, predict2)\n",
    "\n",
    "  # Check if current accuracy is better than the previous best\n",
    "  if accuracy > best_score:\n",
    "    # Update best score and depth if current model is better\n",
    "    best_score = accuracy\n",
    "    best_depth = depth\n",
    "\n",
    "# Print the best score and corresponding depth\n",
    "print('Best score:', best_score, 'with a max_depth of:', best_depth)\n",
    "\n",
    "# Calculate and print F1 score for the best model on validation data\n",
    "print('F1 score:', f1_score(target_valid, predict2))"
   ]
  },
  {
   "cell_type": "code",
   "execution_count": 88,
   "metadata": {},
   "outputs": [
    {
     "name": "stdout",
     "output_type": "stream",
     "text": [
      "Best score (RMSE): 0.3107445279484463 with a max_depth of: 6\n",
      "F1-score: 0.5393258426966293\n"
     ]
    }
   ],
   "source": [
    "# Initialize variables to track the best model performance\n",
    "best_result = 10000  # Large initial value for mean squared error (MSE)\n",
    "best_depth = 0\n",
    "\n",
    "# Loop through different tree depths (hyperparameter tuning)\n",
    "for depth in range(1, 50):\n",
    "    # Create a DecisionTreeRegressor model with current depth\n",
    "    model = DecisionTreeRegressor(max_depth=depth, random_state=12345)\n",
    "\n",
    "    # Train the model on the training data\n",
    "    model.fit(features_train, target_train)\n",
    "\n",
    "    # Make predictions on the validation data\n",
    "    predict3 = model.predict(features_valid)\n",
    "\n",
    "    # Calculate the mean squared error (MSE) between predictions and actual values\n",
    "    result = mean_squared_error(target_valid, predict3) ** 0.5  # Square root for RMSE\n",
    "\n",
    "    # Check if current model has lower MSE than previous best\n",
    "    if result < best_result:\n",
    "        best_result = result  # Update best MSE\n",
    "        best_depth = depth  # Update best depth\n",
    "\n",
    "# Print results after evaluating all depths\n",
    "print('Best score (RMSE):', best_result, 'with a max_depth of:', best_depth)\n",
    "print('F1-score:', f1_score(target_valid, predict3))  # Additional evaluation metric"
   ]
  },
  {
   "cell_type": "code",
   "execution_count": 89,
   "metadata": {},
   "outputs": [
    {
     "name": "stdout",
     "output_type": "stream",
     "text": [
      "Accuracy score: 0.7952\n",
      "F1 score: 0.0\n"
     ]
    }
   ],
   "source": [
    "# Create a Logistic Regression model\n",
    "model = LogisticRegression(solver='liblinear', random_state=12345)\n",
    "\n",
    "# Train the model on the training data\n",
    "model.fit(features_train, target_train)\n",
    "\n",
    "# Use the trained model to make predictions on the validation data\n",
    "predicted_value = model.predict(features_valid)\n",
    "\n",
    "# Evaluate the model's performance\n",
    "print('Accuracy score:', accuracy_score(target_valid, predicted_value))\n",
    "print('F1 score:', f1_score(target_valid, predicted_value))"
   ]
  },
  {
   "cell_type": "code",
   "execution_count": 90,
   "metadata": {},
   "outputs": [
    {
     "name": "stdout",
     "output_type": "stream",
     "text": [
      "[[475  22]\n",
      " [ 77  51]]\n"
     ]
    }
   ],
   "source": [
    "print(confusion_matrix(target_valid,predict1))"
   ]
  },
  {
   "cell_type": "markdown",
   "metadata": {},
   "source": [
    "The precise model is the RandomForestClassifier with a maximum precision of 0.85\n",
    "Under this model, a prediction was obtained in which the majority of the predicted responses are true negatives, although we still have several false negatives. Evaluating the precision and recall of the model, we obtain an F1 value of 0.53."
   ]
  },
  {
   "cell_type": "markdown",
   "metadata": {},
   "source": [
    "## Improve model quality. Make sure you use at least two approaches to correct class imbalance. It uses training and validation sets to find the best model and the best set of parameters. Train different models on the training and validation sets. Find the best. Briefly describe your findings."
   ]
  },
  {
   "cell_type": "markdown",
   "metadata": {},
   "source": [
    "Because we have many false negative values, we will apply an oversampling technique to increase the positive values ​​and thus balance the data."
   ]
  },
  {
   "cell_type": "code",
   "execution_count": 91,
   "metadata": {},
   "outputs": [],
   "source": [
    "def upsample(features, target, repeat):\n",
    "    \"\"\"\n",
    "    This function upsamples the minority class in a binary classification dataset.\n",
    "\n",
    "    Args:\n",
    "        features: DataFrame containing the features.\n",
    "        target: Series containing the target variable (binary labels).\n",
    "        repeat: The number of times to repeat the minority class.\n",
    "\n",
    "    Returns:\n",
    "        A tuple containing the upsampled features and target.\n",
    "    \"\"\"\n",
    "    \n",
    "    features_zeros = features[target == 0]  # Select features where target is 0 (majority class)\n",
    "    features_ones = features[target == 1]  # Select features where target is 1 (minority class)\n",
    "    target_zeros = target[target == 0]\n",
    "    target_ones = target[target == 1]\n",
    "\n",
    "    # Repeat the minority class samples 'repeat' times\n",
    "    features_upsampled = pd.concat([features_zeros] + [features_ones] * repeat)\n",
    "    target_upsampled = pd.concat([target_zeros] + [target_ones] * repeat)\n",
    "\n",
    "    # Shuffle the upsampled data to avoid introducing bias\n",
    "    features_upsampled, target_upsampled = shuffle(\n",
    "        features_upsampled, target_upsampled, random_state=12345)\n",
    "\n",
    "    return features_upsampled, target_upsampled\n",
    "\n",
    "# Upsample the training data with a repetition factor of 10\n",
    "features_upsampled, target_upsampled = upsample(features_train, target_train, 10)"
   ]
  },
  {
   "cell_type": "code",
   "execution_count": 92,
   "metadata": {},
   "outputs": [
    {
     "name": "stdout",
     "output_type": "stream",
     "text": [
      "Best score: 0.864 with n_estimators of: 20\n",
      "Accuracy score: 0.8592\n",
      "F1 score: 0.6106194690265487\n"
     ]
    }
   ],
   "source": [
    "# Initialize variables to track best score and estimator\n",
    "best_score = 0\n",
    "best_est = 0\n",
    "\n",
    "# Loop through a range of n_estimators for Random Forest\n",
    "for est in range(1, 25):\n",
    "  # Create a Random Forest model with current n_estimators\n",
    "  model = RandomForestClassifier(random_state=12345, n_estimators=est)\n",
    "\n",
    "  # Train the model on the upsampled features and target data\n",
    "  model.fit(features_upsampled, target_upsampled)\n",
    "\n",
    "  # Make predictions on the validation set\n",
    "  predicted_valid = model.predict(features_valid)\n",
    "\n",
    "  # Calculate accuracy score for the validation set\n",
    "  accuracy = accuracy_score(target_valid, predicted_valid)\n",
    "\n",
    "  # Check if current accuracy is better than the best score so far\n",
    "  if accuracy > best_score:\n",
    "    # Update best score and corresponding number of estimators\n",
    "    best_score = accuracy\n",
    "    best_est = est\n",
    "\n",
    "# Print the best score and corresponding number of estimators\n",
    "print('Best score:', best_score, 'with n_estimators of:', best_est)\n",
    "\n",
    "# Evaluate the final model on the validation set using accuracy score and F1 score\n",
    "print('Accuracy score:', accuracy_score(target_valid, predicted_valid))\n",
    "print('F1 score:', f1_score(target_valid, predicted_valid))"
   ]
  },
  {
   "cell_type": "code",
   "execution_count": 93,
   "metadata": {},
   "outputs": [
    {
     "name": "stdout",
     "output_type": "stream",
     "text": [
      "Best score: 0.6832 with a max_depth of: 2\n",
      "F1: 0.5154185022026432\n"
     ]
    }
   ],
   "source": [
    "# Initialize variables to track best score and depth\n",
    "best_score = 0\n",
    "best_depth = 0\n",
    "\n",
    "# Loop through a range of decision tree depths (1 to 5)\n",
    "for depth in range(1, 6):\n",
    "  # Create a DecisionTreeClassifier model with current depth\n",
    "  model = DecisionTreeClassifier(max_depth=depth, random_state=12345)\n",
    "\n",
    "  # Train the model on the upsampled features and target variables\n",
    "  model.fit(features_upsampled, target_upsampled)\n",
    "\n",
    "  # Make predictions on the validation set using the trained model\n",
    "  predict2 = model.predict(features_valid)\n",
    "\n",
    "  # Calculate accuracy score for the predictions on the validation set\n",
    "  accuracy = accuracy_score(target_valid, predict2)\n",
    "\n",
    "  # Check if current accuracy is better than the previous best score\n",
    "  if accuracy > best_score:\n",
    "    # Update best score and best depth if current accuracy is higher\n",
    "    best_score = accuracy\n",
    "    best_depth = depth\n",
    "\n",
    "# Print the best score achieved and the corresponding decision tree depth\n",
    "print('Best score:', best_score, 'with a max_depth of:', best_depth)\n",
    "\n",
    "# Calculate and print the F1 score for the best model on the validation set\n",
    "print('F1:', f1_score(target_valid, predict2))"
   ]
  },
  {
   "cell_type": "code",
   "execution_count": 94,
   "metadata": {},
   "outputs": [
    {
     "name": "stdout",
     "output_type": "stream",
     "text": [
      "Best score (RMSE): 0.43801655608134327 with a max_depth of: 26\n",
      "F1 score: 0.49206349206349204\n"
     ]
    }
   ],
   "source": [
    "# Initialize variables to track best performance\n",
    "best_result = 10000  # Large initial value for mean squared error\n",
    "best_depth = 0\n",
    "\n",
    "# Loop through different tree depths (hyperparameter tuning)\n",
    "for depth in range(1, 50):\n",
    "    # Create a DecisionTreeRegressor model with current depth\n",
    "    model = DecisionTreeRegressor(max_depth=depth, random_state=12345)\n",
    "\n",
    "    # Train the model on the upsampled features and target data\n",
    "    model.fit(features_upsampled, target_upsampled)\n",
    "\n",
    "    # Make predictions on the validation set using the trained model\n",
    "    predict3 = model.predict(features_valid)\n",
    "\n",
    "    # Calculate the mean squared error (MSE) between predictions and actual values\n",
    "    result = mean_squared_error(target_valid, predict3)**0.5  # Square root for RMSE\n",
    "\n",
    "    # Check if current result is better than the previous best\n",
    "    if result < best_result:\n",
    "        best_result = result  # Update best score\n",
    "        best_depth = depth  # Update best depth\n",
    "\n",
    "# Print the results\n",
    "print('Best score (RMSE):', best_result, 'with a max_depth of:', best_depth)\n",
    "print('F1 score:', f1_score(target_valid, predict3))"
   ]
  },
  {
   "cell_type": "code",
   "execution_count": 95,
   "metadata": {},
   "outputs": [
    {
     "name": "stdout",
     "output_type": "stream",
     "text": [
      "Accuracy score: 0.2048\n",
      "F1 score: 0.3399734395750332\n"
     ]
    }
   ],
   "source": [
    "# Define and train a Logistic Regression model\n",
    "model = LogisticRegression(solver='liblinear', random_state=12345)\n",
    "model.fit(features_upsampled, target_upsampled)\n",
    "\n",
    "# Make predictions on the validation set\n",
    "predicted_value = model.predict(features_valid)\n",
    "\n",
    "# Evaluate model performance\n",
    "print('Accuracy score:', accuracy_score(target_valid, predicted_value))\n",
    "print('F1 score:', f1_score(target_valid, predicted_value))"
   ]
  },
  {
   "cell_type": "markdown",
   "metadata": {},
   "source": [
    "We apply the subsampling technique to balance the data."
   ]
  },
  {
   "cell_type": "code",
   "execution_count": 96,
   "metadata": {},
   "outputs": [],
   "source": [
    "def downsample(features, target, fraction):\n",
    "    \"\"\"\n",
    "    Downsamples the majority class in a binary classification dataset.\n",
    "\n",
    "    Args:\n",
    "        features: DataFrame containing the features.\n",
    "        target: Series containing the target variable (binary labels).\n",
    "        fraction: Fraction of the majority class to keep in the downsampled dataset.\n",
    "\n",
    "    Returns:\n",
    "        A tuple containing the downsampled features and target.\n",
    "    \"\"\"\n",
    "\n",
    "    # Filter data based on target class\n",
    "    features_zeros = features[target == 0] \n",
    "    features_ones = features[target == 1]\n",
    "    target_zeros = target[target == 0]\n",
    "    target_ones = target[target == 1]\n",
    "\n",
    "    # Downsample the majority class (assumed to be class 0)\n",
    "    features_downsampled = pd.concat(\n",
    "        [features_zeros.sample(frac=fraction, random_state=12345)] + [features_ones]) \n",
    "    target_downsampled = pd.concat([target_zeros.sample(frac=fraction, random_state=12345)] + [target_ones])\n",
    "\n",
    "    # Shuffle the downsampled data to ensure randomness\n",
    "    features_downsampled, target_downsampled = shuffle(features_downsampled, target_downsampled, random_state=12345)\n",
    "\n",
    "    return features_downsampled, target_downsampled\n",
    "\n",
    "# Apply downsampling to the training data\n",
    "features_downsampled, target_downsampled = downsample(features_train, target_train, 0.1)"
   ]
  },
  {
   "cell_type": "code",
   "execution_count": 97,
   "metadata": {},
   "outputs": [
    {
     "name": "stdout",
     "output_type": "stream",
     "text": [
      "Best score: 0.6848 with n_estimators of: 2\n",
      "Final accuracy score: 0.6224\n",
      "F1 score: 0.49787234042553197\n"
     ]
    }
   ],
   "source": [
    "# Initialize variables to track best score and estimator\n",
    "best_score = 0\n",
    "best_est = 0\n",
    "\n",
    "# Loop through a range of n_estimators for Random Forest\n",
    "for est in range(1, 25):\n",
    "  # Create a Random Forest model with current n_estimators\n",
    "  model = RandomForestClassifier(random_state=12345, n_estimators=est)\n",
    "\n",
    "  # Train the model on the downsampled features and target data\n",
    "  model.fit(features_downsampled, target_downsampled)\n",
    "\n",
    "  # Make predictions on the validation set\n",
    "  predicted_valid = model.predict(features_valid)\n",
    "\n",
    "  # Calculate the accuracy score for the validation set\n",
    "  accuracy = accuracy_score(target_valid, predicted_valid)\n",
    "\n",
    "  # Check if current accuracy is better than the best score so far\n",
    "  if accuracy > best_score:\n",
    "    # Update best score and corresponding n_estimators\n",
    "    best_score = accuracy\n",
    "    best_est = est\n",
    "\n",
    "# Print the best score and n_estimators found during the loop\n",
    "print('Best score:', best_score, 'with n_estimators of:', best_est)\n",
    "\n",
    "# Evaluate the final model using accuracy score on validation set\n",
    "print('Final accuracy score:', accuracy_score(target_valid, predicted_valid))\n",
    "\n",
    "# Evaluate the final model using F1 score on validation set\n",
    "print('F1 score:', f1_score(target_valid, predicted_valid))"
   ]
  },
  {
   "cell_type": "code",
   "execution_count": 98,
   "metadata": {},
   "outputs": [
    {
     "name": "stdout",
     "output_type": "stream",
     "text": [
      "Best score: 0.6832 with a max_depth of: 2\n",
      "F1: 0.4957264957264957\n"
     ]
    }
   ],
   "source": [
    "# Initialize variables to track best score and depth\n",
    "best_score = 0\n",
    "best_depth = 0\n",
    "\n",
    "# Loop through a range of tree depths (1 to 5)\n",
    "for depth in range(1, 6):\n",
    "  # Create a DecisionTreeClassifier model with current depth and random state\n",
    "  model = DecisionTreeClassifier(max_depth=depth, random_state=12345)\n",
    "\n",
    "  # Train the model on the downsampled features and target variables\n",
    "  model.fit(features_downsampled, target_downsampled)\n",
    "\n",
    "  # Make predictions on the validation set using the trained model\n",
    "  predict2 = model.predict(features_valid)\n",
    "\n",
    "  # Calculate the accuracy score for the predictions on the validation set\n",
    "  accuracy = accuracy_score(target_valid, predict2)\n",
    "\n",
    "  # Check if the current accuracy is better than the best score seen so far\n",
    "  if accuracy > best_score:\n",
    "    # Update best score and depth if the current model performs better\n",
    "    best_score = accuracy\n",
    "    best_depth = depth\n",
    "\n",
    "# Print the best score and corresponding depth\n",
    "print('Best score:', best_score, 'with a max_depth of:', best_depth)\n",
    "\n",
    "# Calculate and print the F1 score on the validation set using the best model\n",
    "print('F1:', f1_score(target_valid, predict2))"
   ]
  },
  {
   "cell_type": "code",
   "execution_count": 99,
   "metadata": {},
   "outputs": [
    {
     "name": "stdout",
     "output_type": "stream",
     "text": [
      "Best RMSE: 0.5125613349038769 with a max_depth of: 5\n",
      "F1 Score: 0.4622030237580994\n"
     ]
    }
   ],
   "source": [
    "# Initialize variables to track best performance\n",
    "best_result = 10000  # Large initial value to ensure first iteration updates\n",
    "best_depth = 0\n",
    "\n",
    "# Loop through a range of tree depths (hyperparameter tuning)\n",
    "for depth in range(1, 50):\n",
    "    # Create a decision tree regression model with current depth\n",
    "    model = DecisionTreeRegressor(max_depth=depth, random_state=12345)\n",
    "\n",
    "    # Train the model on the downsampled features and target variables\n",
    "    model.fit(features_downsampled, target_downsampled)\n",
    "\n",
    "    # Make predictions on the validation set using the trained model\n",
    "    predict3 = model.predict(features_valid)\n",
    "\n",
    "    # Calculate the root mean squared error (RMSE) between predictions and actual values\n",
    "    result = mean_squared_error(target_valid, predict3)**0.5\n",
    "\n",
    "    # Track the best model so far based on lowest RMSE\n",
    "    if result < best_result:\n",
    "        best_result = result\n",
    "        best_depth = depth\n",
    "\n",
    "# Print the best achieved RMSE and corresponding hyperparameter (depth)\n",
    "print('Best RMSE:', best_result, 'with a max_depth of:', best_depth)\n",
    "\n",
    "# Additionally calculate and print F1 score (optional for regression models)\n",
    "print('F1 Score:', f1_score(target_valid, predict3))"
   ]
  },
  {
   "cell_type": "code",
   "execution_count": 100,
   "metadata": {},
   "outputs": [
    {
     "name": "stdout",
     "output_type": "stream",
     "text": [
      "Accuracy score: 0.2048\n",
      "F1 score: 0.3399734395750332\n"
     ]
    }
   ],
   "source": [
    "# Define and train a Logistic Regression model\n",
    "model = LogisticRegression(solver='liblinear', random_state=12345)\n",
    "model.fit(features_downsampled, target_downsampled)\n",
    "\n",
    "# Make predictions on the validation set\n",
    "predicted_value = model.predict(features_valid)\n",
    "\n",
    "# Evaluate model performance\n",
    "print('Accuracy score:', accuracy_score(target_valid, predicted_value))\n",
    "print('F1 score:', f1_score(target_valid, predicted_value))"
   ]
  },
  {
   "cell_type": "markdown",
   "metadata": {},
   "source": [
    "## Threshold adjustment"
   ]
  },
  {
   "cell_type": "markdown",
   "metadata": {},
   "source": [
    "The balancing methods Oversampling and Undersampling were applied, then the models were trained: RandomForestClassifier, DecisionTreeClassifier, DecisionTreeRegressor and LogisticRegression for both methods and it was obtained that for the RandomForestClassifier model the F1 value was improved by 0.02 using half of the oversampling method. sampling."
   ]
  },
  {
   "cell_type": "markdown",
   "metadata": {},
   "source": [
    "## Take the final test"
   ]
  },
  {
   "cell_type": "code",
   "execution_count": 101,
   "metadata": {},
   "outputs": [
    {
     "name": "stdout",
     "output_type": "stream",
     "text": [
      "Best score: 0.8442666666666667 with n_estimators of: 20\n",
      "Predicted labels: [0 1 0 ... 0 0 1]\n",
      "Accuracy score: 0.8410666666666666\n",
      "F1 score: 0.5706051873198847\n",
      "Confusion matrix:\n",
      " [[1379   89]\n",
      " [ 209  198]]\n"
     ]
    }
   ],
   "source": [
    "# Initialize variables to track best score and corresponding number of estimators\n",
    "best_score = 0\n",
    "best_est = 0\n",
    "\n",
    "# Loop through a range of n_estimators for Random Forest Classifier\n",
    "for est in range(1, 25):\n",
    "    # Create a Random Forest Classifier model with current n_estimators\n",
    "    model = RandomForestClassifier(random_state=12345, n_estimators=est)\n",
    "\n",
    "    # Train the model on the upsampled features and target variables\n",
    "    model.fit(features_upsampled, target_upsampled)\n",
    "\n",
    "    # Predict labels for the testing set using the trained model\n",
    "    predicted_test = model.predict(features_test)\n",
    "\n",
    "    # Calculate accuracy score to evaluate model performance\n",
    "    accuracy = accuracy_score(target_test, predicted_test)\n",
    "\n",
    "    # Check if current accuracy is better than the previous best score\n",
    "    if accuracy > best_score:\n",
    "        # Update best score and corresponding number of estimators\n",
    "        best_score = accuracy\n",
    "        best_est = est\n",
    "\n",
    "# Print results after evaluating all models\n",
    "print('Best score:', best_score, 'with n_estimators of:', best_est)\n",
    "\n",
    "# Additional model evaluation metrics (using previously predicted labels)\n",
    "print('Predicted labels:', predicted_test)\n",
    "print('Accuracy score:', accuracy_score(target_test, predicted_test))\n",
    "print('F1 score:', f1_score(target_test, predicted_test))\n",
    "print('Confusion matrix:\\n', confusion_matrix(target_test, predicted_test))\n"
   ]
  },
  {
   "cell_type": "markdown",
   "metadata": {},
   "source": [
    "The main objective of this project was to develop a machine learning model capable of predicting with high precision whether a Beta Bank client will leave the entity (churn). To do this, a data set containing detailed information about customers was used, including demographic, behavioral and financial variables.\n",
    "The dataset was divided into test, validation and training sets. After that, models were trained and predicted without taking into account the class balance and later the class balance was corrected and it was obtained that for the RandomForestClassifier model the F1 value was improved by 0.02 using the oversampling method.\n",
    "In conclusion, the model developed in this project provides a valuable tool to predict customer churn at Beta Bank. The results obtained demonstrate the importance of addressing class imbalance and selecting the appropriate model for this type of problems. However, it is essential to continue researching and improving the model to ensure its long-term effectiveness."
   ]
  },
  {
   "cell_type": "code",
   "execution_count": null,
   "metadata": {},
   "outputs": [],
   "source": []
  }
 ],
 "metadata": {
  "ExecuteTimeLog": [
   {
    "duration": 1309,
    "start_time": "2024-07-23T20:58:27.338Z"
   },
   {
    "duration": 58,
    "start_time": "2024-07-23T21:01:08.805Z"
   },
   {
    "duration": 18,
    "start_time": "2024-07-23T21:01:15.366Z"
   },
   {
    "duration": 54,
    "start_time": "2024-07-23T21:03:13.627Z"
   },
   {
    "duration": 6,
    "start_time": "2024-07-23T21:12:56.512Z"
   },
   {
    "duration": 409,
    "start_time": "2024-07-23T21:16:00.601Z"
   },
   {
    "duration": 3966,
    "start_time": "2024-07-23T21:16:18.786Z"
   },
   {
    "duration": 39,
    "start_time": "2024-07-23T21:16:22.756Z"
   },
   {
    "duration": 17,
    "start_time": "2024-07-23T21:16:23.195Z"
   },
   {
    "duration": 125,
    "start_time": "2024-07-23T21:16:23.818Z"
   },
   {
    "duration": 6,
    "start_time": "2024-07-23T21:16:26.961Z"
   },
   {
    "duration": 504,
    "start_time": "2024-07-23T21:16:28.652Z"
   },
   {
    "duration": 503,
    "start_time": "2024-07-23T21:17:02.263Z"
   },
   {
    "duration": 210,
    "start_time": "2024-07-23T21:17:16.953Z"
   },
   {
    "duration": 229,
    "start_time": "2024-07-23T21:19:40.232Z"
   },
   {
    "duration": 43,
    "start_time": "2024-07-23T21:19:48.875Z"
   },
   {
    "duration": 215,
    "start_time": "2024-07-23T21:20:04.752Z"
   },
   {
    "duration": 212,
    "start_time": "2024-07-23T21:20:20.971Z"
   },
   {
    "duration": 5,
    "start_time": "2024-07-23T21:23:24.739Z"
   },
   {
    "duration": 7,
    "start_time": "2024-07-23T21:23:28.129Z"
   },
   {
    "duration": 212,
    "start_time": "2024-07-23T21:23:30.547Z"
   },
   {
    "duration": 1111,
    "start_time": "2024-07-23T21:24:35.590Z"
   },
   {
    "duration": 212,
    "start_time": "2024-07-23T21:24:44.996Z"
   },
   {
    "duration": 9,
    "start_time": "2024-07-23T21:25:25.376Z"
   },
   {
    "duration": 10,
    "start_time": "2024-07-23T21:25:34.060Z"
   },
   {
    "duration": 7,
    "start_time": "2024-07-23T21:25:42.307Z"
   },
   {
    "duration": 24,
    "start_time": "2024-07-23T21:25:47.738Z"
   },
   {
    "duration": 5,
    "start_time": "2024-07-23T21:25:58.359Z"
   },
   {
    "duration": 6,
    "start_time": "2024-07-23T21:26:21.426Z"
   },
   {
    "duration": 7,
    "start_time": "2024-07-23T21:26:55.272Z"
   },
   {
    "duration": 10,
    "start_time": "2024-07-23T21:27:20.757Z"
   },
   {
    "duration": 12,
    "start_time": "2024-07-23T21:27:33.159Z"
   },
   {
    "duration": 10,
    "start_time": "2024-07-23T21:27:36.853Z"
   },
   {
    "duration": 10,
    "start_time": "2024-07-23T21:28:14.278Z"
   },
   {
    "duration": 8,
    "start_time": "2024-07-23T21:28:40.609Z"
   },
   {
    "duration": 10,
    "start_time": "2024-07-23T21:28:55.304Z"
   },
   {
    "duration": 204,
    "start_time": "2024-07-23T21:29:17.113Z"
   },
   {
    "duration": 227,
    "start_time": "2024-07-23T21:29:49.042Z"
   },
   {
    "duration": 334,
    "start_time": "2024-07-23T21:29:59.846Z"
   },
   {
    "duration": 193,
    "start_time": "2024-07-23T21:32:34.880Z"
   },
   {
    "duration": 22,
    "start_time": "2024-07-23T21:32:50.626Z"
   },
   {
    "duration": 19315,
    "start_time": "2024-07-23T21:33:04.152Z"
   },
   {
    "duration": 531,
    "start_time": "2024-07-23T21:35:36.057Z"
   },
   {
    "duration": 414,
    "start_time": "2024-07-23T21:35:51.036Z"
   },
   {
    "duration": 192,
    "start_time": "2024-07-23T21:43:54.649Z"
   },
   {
    "duration": 213,
    "start_time": "2024-07-23T21:45:03.563Z"
   },
   {
    "duration": 220,
    "start_time": "2024-07-23T21:45:47.004Z"
   },
   {
    "duration": 259,
    "start_time": "2024-07-23T21:46:06.260Z"
   },
   {
    "duration": 230,
    "start_time": "2024-07-23T21:46:19.152Z"
   },
   {
    "duration": 1467,
    "start_time": "2024-07-23T21:46:27.179Z"
   },
   {
    "duration": 219,
    "start_time": "2024-07-23T21:46:58.796Z"
   },
   {
    "duration": 6,
    "start_time": "2024-07-23T21:47:41.778Z"
   },
   {
    "duration": 5,
    "start_time": "2024-07-23T21:48:28.057Z"
   },
   {
    "duration": 25,
    "start_time": "2024-07-23T21:54:53.373Z"
   },
   {
    "duration": 4,
    "start_time": "2024-07-23T21:55:22.966Z"
   },
   {
    "duration": 9,
    "start_time": "2024-07-23T21:59:24.815Z"
   },
   {
    "duration": 62,
    "start_time": "2024-07-23T22:14:07.167Z"
   },
   {
    "duration": 61,
    "start_time": "2024-07-23T22:14:50.635Z"
   },
   {
    "duration": 6,
    "start_time": "2024-07-23T22:24:23.316Z"
   },
   {
    "duration": 5,
    "start_time": "2024-07-23T22:24:43.920Z"
   },
   {
    "duration": 4,
    "start_time": "2024-07-23T22:27:06.456Z"
   },
   {
    "duration": 4,
    "start_time": "2024-07-23T22:27:14.765Z"
   },
   {
    "duration": 17,
    "start_time": "2024-07-23T22:27:25.188Z"
   },
   {
    "duration": 5,
    "start_time": "2024-07-23T22:27:32.954Z"
   },
   {
    "duration": 38,
    "start_time": "2024-07-23T22:27:32.963Z"
   },
   {
    "duration": 18,
    "start_time": "2024-07-23T22:27:33.004Z"
   },
   {
    "duration": 50,
    "start_time": "2024-07-23T22:27:33.036Z"
   },
   {
    "duration": 5,
    "start_time": "2024-07-23T22:27:33.090Z"
   },
   {
    "duration": 44,
    "start_time": "2024-07-23T22:27:33.098Z"
   },
   {
    "duration": 6,
    "start_time": "2024-07-23T22:27:33.145Z"
   },
   {
    "duration": 240,
    "start_time": "2024-07-23T22:27:33.155Z"
   },
   {
    "duration": 9,
    "start_time": "2024-07-23T22:27:33.398Z"
   },
   {
    "duration": 63,
    "start_time": "2024-07-23T22:27:36.228Z"
   },
   {
    "duration": 916,
    "start_time": "2024-07-23T22:35:05.662Z"
   },
   {
    "duration": 14,
    "start_time": "2024-07-23T22:35:11.692Z"
   },
   {
    "duration": 16,
    "start_time": "2024-07-23T22:36:53.026Z"
   },
   {
    "duration": 18,
    "start_time": "2024-07-23T22:37:14.819Z"
   },
   {
    "duration": 7,
    "start_time": "2024-07-23T22:37:22.811Z"
   },
   {
    "duration": 4,
    "start_time": "2024-07-23T22:37:38.421Z"
   },
   {
    "duration": 39,
    "start_time": "2024-07-23T22:37:38.429Z"
   },
   {
    "duration": 15,
    "start_time": "2024-07-23T22:37:38.471Z"
   },
   {
    "duration": 70,
    "start_time": "2024-07-23T22:37:38.490Z"
   },
   {
    "duration": 4,
    "start_time": "2024-07-23T22:37:38.563Z"
   },
   {
    "duration": 16,
    "start_time": "2024-07-23T22:37:38.571Z"
   },
   {
    "duration": 47,
    "start_time": "2024-07-23T22:37:38.590Z"
   },
   {
    "duration": 19,
    "start_time": "2024-07-23T22:37:38.640Z"
   },
   {
    "duration": 10,
    "start_time": "2024-07-23T22:37:38.663Z"
   },
   {
    "duration": 609,
    "start_time": "2024-07-23T22:37:38.676Z"
   },
   {
    "duration": 0,
    "start_time": "2024-07-23T22:37:39.288Z"
   },
   {
    "duration": 56,
    "start_time": "2024-07-23T22:37:43.585Z"
   },
   {
    "duration": 56,
    "start_time": "2024-07-23T22:37:50.335Z"
   },
   {
    "duration": 11,
    "start_time": "2024-07-23T22:37:52.935Z"
   },
   {
    "duration": 5,
    "start_time": "2024-07-23T22:37:58.343Z"
   },
   {
    "duration": 36,
    "start_time": "2024-07-23T22:37:58.353Z"
   },
   {
    "duration": 18,
    "start_time": "2024-07-23T22:37:58.392Z"
   },
   {
    "duration": 49,
    "start_time": "2024-07-23T22:37:58.436Z"
   },
   {
    "duration": 5,
    "start_time": "2024-07-23T22:37:58.490Z"
   },
   {
    "duration": 44,
    "start_time": "2024-07-23T22:37:58.498Z"
   },
   {
    "duration": 13,
    "start_time": "2024-07-23T22:37:58.545Z"
   },
   {
    "duration": 15,
    "start_time": "2024-07-23T22:37:58.562Z"
   },
   {
    "duration": 10,
    "start_time": "2024-07-23T22:37:58.580Z"
   },
   {
    "duration": 334,
    "start_time": "2024-07-23T22:37:58.592Z"
   },
   {
    "duration": 291,
    "start_time": "2024-07-23T22:39:40.586Z"
   },
   {
    "duration": 290,
    "start_time": "2024-07-23T22:40:04.464Z"
   },
   {
    "duration": 5,
    "start_time": "2024-07-23T22:40:14.353Z"
   },
   {
    "duration": 37,
    "start_time": "2024-07-23T22:40:14.363Z"
   },
   {
    "duration": 17,
    "start_time": "2024-07-23T22:40:14.404Z"
   },
   {
    "duration": 50,
    "start_time": "2024-07-23T22:40:14.435Z"
   },
   {
    "duration": 4,
    "start_time": "2024-07-23T22:40:14.489Z"
   },
   {
    "duration": 40,
    "start_time": "2024-07-23T22:40:14.496Z"
   },
   {
    "duration": 13,
    "start_time": "2024-07-23T22:40:14.540Z"
   },
   {
    "duration": 4,
    "start_time": "2024-07-23T22:40:14.556Z"
   },
   {
    "duration": 7,
    "start_time": "2024-07-23T22:40:14.563Z"
   },
   {
    "duration": 221,
    "start_time": "2024-07-23T22:40:16.868Z"
   },
   {
    "duration": 25,
    "start_time": "2024-07-23T22:42:05.858Z"
   },
   {
    "duration": 4,
    "start_time": "2024-07-23T22:42:17.020Z"
   },
   {
    "duration": 29,
    "start_time": "2024-07-23T22:42:20.577Z"
   },
   {
    "duration": 16,
    "start_time": "2024-07-23T22:42:47.418Z"
   },
   {
    "duration": 73,
    "start_time": "2024-07-23T22:42:57.297Z"
   },
   {
    "duration": 19,
    "start_time": "2024-07-23T22:43:01.714Z"
   },
   {
    "duration": 7,
    "start_time": "2024-07-23T22:43:29.760Z"
   },
   {
    "duration": 5,
    "start_time": "2024-07-23T22:43:42.818Z"
   },
   {
    "duration": 5,
    "start_time": "2024-07-23T22:45:03.776Z"
   },
   {
    "duration": 35,
    "start_time": "2024-07-23T22:45:03.785Z"
   },
   {
    "duration": 17,
    "start_time": "2024-07-23T22:45:03.822Z"
   },
   {
    "duration": 49,
    "start_time": "2024-07-23T22:45:03.843Z"
   },
   {
    "duration": 4,
    "start_time": "2024-07-23T22:45:03.895Z"
   },
   {
    "duration": 41,
    "start_time": "2024-07-23T22:45:03.902Z"
   },
   {
    "duration": 13,
    "start_time": "2024-07-23T22:45:03.947Z"
   },
   {
    "duration": 5,
    "start_time": "2024-07-23T22:45:06.730Z"
   },
   {
    "duration": 5,
    "start_time": "2024-07-23T22:45:13.527Z"
   },
   {
    "duration": 34,
    "start_time": "2024-07-23T22:45:13.536Z"
   },
   {
    "duration": 17,
    "start_time": "2024-07-23T22:45:13.572Z"
   },
   {
    "duration": 81,
    "start_time": "2024-07-23T22:45:13.592Z"
   },
   {
    "duration": 4,
    "start_time": "2024-07-23T22:45:13.679Z"
   },
   {
    "duration": 16,
    "start_time": "2024-07-23T22:45:13.686Z"
   },
   {
    "duration": 40,
    "start_time": "2024-07-23T22:45:13.705Z"
   },
   {
    "duration": 5,
    "start_time": "2024-07-23T22:45:13.748Z"
   },
   {
    "duration": 17,
    "start_time": "2024-07-23T22:45:13.756Z"
   },
   {
    "duration": 5,
    "start_time": "2024-07-23T22:45:13.776Z"
   },
   {
    "duration": 275,
    "start_time": "2024-07-23T22:45:13.784Z"
   },
   {
    "duration": 10,
    "start_time": "2024-07-23T22:45:14.062Z"
   },
   {
    "duration": 57,
    "start_time": "2024-07-23T22:45:18.115Z"
   },
   {
    "duration": 28,
    "start_time": "2024-07-23T23:00:48.023Z"
   },
   {
    "duration": 26,
    "start_time": "2024-07-23T23:00:52.549Z"
   },
   {
    "duration": 821,
    "start_time": "2024-07-23T23:01:09.961Z"
   },
   {
    "duration": 7,
    "start_time": "2024-07-23T23:04:37.720Z"
   },
   {
    "duration": 5,
    "start_time": "2024-07-23T23:04:48.577Z"
   },
   {
    "duration": 6,
    "start_time": "2024-07-23T23:04:56.264Z"
   },
   {
    "duration": 37,
    "start_time": "2024-07-23T23:04:56.282Z"
   },
   {
    "duration": 20,
    "start_time": "2024-07-23T23:04:56.323Z"
   },
   {
    "duration": 61,
    "start_time": "2024-07-23T23:04:56.352Z"
   },
   {
    "duration": 20,
    "start_time": "2024-07-23T23:04:56.416Z"
   },
   {
    "duration": 20,
    "start_time": "2024-07-23T23:04:56.441Z"
   },
   {
    "duration": 15,
    "start_time": "2024-07-23T23:04:56.465Z"
   },
   {
    "duration": 63,
    "start_time": "2024-07-23T23:04:56.483Z"
   },
   {
    "duration": 12,
    "start_time": "2024-07-23T23:04:56.549Z"
   },
   {
    "duration": 255,
    "start_time": "2024-07-23T23:04:56.564Z"
   },
   {
    "duration": 19,
    "start_time": "2024-07-23T23:04:56.822Z"
   },
   {
    "duration": 61,
    "start_time": "2024-07-23T23:05:01.698Z"
   },
   {
    "duration": 8,
    "start_time": "2024-07-23T23:06:56.190Z"
   },
   {
    "duration": 43,
    "start_time": "2024-07-23T23:06:56.203Z"
   },
   {
    "duration": 20,
    "start_time": "2024-07-23T23:06:56.250Z"
   },
   {
    "duration": 80,
    "start_time": "2024-07-23T23:06:56.274Z"
   },
   {
    "duration": 7,
    "start_time": "2024-07-23T23:06:56.359Z"
   },
   {
    "duration": 20,
    "start_time": "2024-07-23T23:06:56.370Z"
   },
   {
    "duration": 45,
    "start_time": "2024-07-23T23:06:56.394Z"
   },
   {
    "duration": 20,
    "start_time": "2024-07-23T23:06:56.441Z"
   },
   {
    "duration": 7,
    "start_time": "2024-07-23T23:06:56.465Z"
   },
   {
    "duration": 284,
    "start_time": "2024-07-23T23:06:56.475Z"
   },
   {
    "duration": 10,
    "start_time": "2024-07-23T23:06:56.762Z"
   },
   {
    "duration": 61,
    "start_time": "2024-07-23T23:07:16.973Z"
   },
   {
    "duration": 16,
    "start_time": "2024-07-23T23:09:22.453Z"
   },
   {
    "duration": 5181,
    "start_time": "2024-07-24T15:23:33.143Z"
   },
   {
    "duration": 57,
    "start_time": "2024-07-24T15:23:38.328Z"
   },
   {
    "duration": 18,
    "start_time": "2024-07-24T15:23:38.388Z"
   },
   {
    "duration": 77,
    "start_time": "2024-07-24T15:23:38.410Z"
   },
   {
    "duration": 5,
    "start_time": "2024-07-24T15:23:38.490Z"
   },
   {
    "duration": 18,
    "start_time": "2024-07-24T15:23:38.498Z"
   },
   {
    "duration": 6,
    "start_time": "2024-07-24T15:23:38.519Z"
   },
   {
    "duration": 14,
    "start_time": "2024-07-24T15:25:03.099Z"
   },
   {
    "duration": 12,
    "start_time": "2024-07-24T15:26:29.309Z"
   },
   {
    "duration": 20,
    "start_time": "2024-07-24T15:26:42.563Z"
   },
   {
    "duration": 27,
    "start_time": "2024-07-24T15:27:29.230Z"
   },
   {
    "duration": 1767,
    "start_time": "2024-07-24T15:27:40.063Z"
   },
   {
    "duration": 5,
    "start_time": "2024-07-24T15:27:49.588Z"
   },
   {
    "duration": 227,
    "start_time": "2024-07-24T15:27:53.510Z"
   },
   {
    "duration": 9,
    "start_time": "2024-07-24T15:27:57.515Z"
   },
   {
    "duration": 48,
    "start_time": "2024-07-24T15:28:01.578Z"
   },
   {
    "duration": 7,
    "start_time": "2024-07-24T15:36:47.812Z"
   },
   {
    "duration": 157,
    "start_time": "2024-07-24T15:36:52.176Z"
   },
   {
    "duration": 825,
    "start_time": "2024-07-24T15:37:07.359Z"
   },
   {
    "duration": 2689,
    "start_time": "2024-07-24T15:37:26.716Z"
   },
   {
    "duration": 16466,
    "start_time": "2024-07-24T15:37:36.167Z"
   },
   {
    "duration": 66524,
    "start_time": "2024-07-24T15:38:46.329Z"
   },
   {
    "duration": 4079,
    "start_time": "2024-07-24T15:40:17.918Z"
   },
   {
    "duration": 4129,
    "start_time": "2024-07-24T15:40:48.968Z"
   },
   {
    "duration": 4197,
    "start_time": "2024-07-24T15:41:11.420Z"
   },
   {
    "duration": 28,
    "start_time": "2024-07-24T15:56:52.618Z"
   },
   {
    "duration": 5,
    "start_time": "2024-07-24T15:56:58.905Z"
   },
   {
    "duration": 285,
    "start_time": "2024-07-24T15:57:01.622Z"
   },
   {
    "duration": 133,
    "start_time": "2024-07-24T16:03:51.245Z"
   },
   {
    "duration": 39,
    "start_time": "2024-07-24T16:06:13.385Z"
   },
   {
    "duration": 5,
    "start_time": "2024-07-24T16:06:46.593Z"
   },
   {
    "duration": 129,
    "start_time": "2024-07-24T16:06:49.163Z"
   },
   {
    "duration": 173,
    "start_time": "2024-07-24T16:20:07.920Z"
   },
   {
    "duration": 5,
    "start_time": "2024-07-24T16:20:16.987Z"
   },
   {
    "duration": 37,
    "start_time": "2024-07-24T16:20:16.998Z"
   },
   {
    "duration": 21,
    "start_time": "2024-07-24T16:20:17.040Z"
   },
   {
    "duration": 56,
    "start_time": "2024-07-24T16:20:17.069Z"
   },
   {
    "duration": 7,
    "start_time": "2024-07-24T16:20:17.129Z"
   },
   {
    "duration": 33,
    "start_time": "2024-07-24T16:20:17.138Z"
   },
   {
    "duration": 18408,
    "start_time": "2024-07-24T16:20:19.550Z"
   },
   {
    "duration": 19879,
    "start_time": "2024-07-24T16:21:10.635Z"
   },
   {
    "duration": 20425,
    "start_time": "2024-07-24T16:22:48.489Z"
   },
   {
    "duration": 20588,
    "start_time": "2024-07-24T16:23:56.938Z"
   },
   {
    "duration": 169,
    "start_time": "2024-07-24T16:29:16.655Z"
   },
   {
    "duration": 1507,
    "start_time": "2024-07-24T16:31:04.867Z"
   },
   {
    "duration": 57,
    "start_time": "2024-07-24T16:31:06.378Z"
   },
   {
    "duration": 19,
    "start_time": "2024-07-24T16:31:06.438Z"
   },
   {
    "duration": 51,
    "start_time": "2024-07-24T16:31:06.470Z"
   },
   {
    "duration": 5,
    "start_time": "2024-07-24T16:31:06.524Z"
   },
   {
    "duration": 44,
    "start_time": "2024-07-24T16:31:06.532Z"
   },
   {
    "duration": 884,
    "start_time": "2024-07-24T16:31:13.872Z"
   },
   {
    "duration": 1978,
    "start_time": "2024-07-24T16:31:38.495Z"
   },
   {
    "duration": 20180,
    "start_time": "2024-07-24T16:34:14.228Z"
   },
   {
    "duration": 20777,
    "start_time": "2024-07-24T16:34:43.869Z"
   },
   {
    "duration": 20963,
    "start_time": "2024-07-24T16:40:00.304Z"
   },
   {
    "duration": 20847,
    "start_time": "2024-07-24T16:40:28.306Z"
   },
   {
    "duration": 20926,
    "start_time": "2024-07-24T16:41:51.802Z"
   },
   {
    "duration": 20746,
    "start_time": "2024-07-24T16:42:19.732Z"
   },
   {
    "duration": 20913,
    "start_time": "2024-07-24T16:44:42.054Z"
   },
   {
    "duration": 61420,
    "start_time": "2024-07-24T16:46:10.770Z"
   },
   {
    "duration": 21321,
    "start_time": "2024-07-24T16:47:30.017Z"
   },
   {
    "duration": 6,
    "start_time": "2024-07-24T16:50:06.135Z"
   },
   {
    "duration": 32,
    "start_time": "2024-07-24T16:50:14.100Z"
   },
   {
    "duration": 33,
    "start_time": "2024-07-24T16:50:42.483Z"
   },
   {
    "duration": 11,
    "start_time": "2024-07-24T16:51:03.484Z"
   },
   {
    "duration": 28,
    "start_time": "2024-07-24T16:51:10.118Z"
   },
   {
    "duration": 30,
    "start_time": "2024-07-24T16:51:19.041Z"
   },
   {
    "duration": 26,
    "start_time": "2024-07-24T16:51:32.587Z"
   },
   {
    "duration": 11,
    "start_time": "2024-07-24T16:51:38.784Z"
   },
   {
    "duration": 29,
    "start_time": "2024-07-24T16:51:51.946Z"
   },
   {
    "duration": 29,
    "start_time": "2024-07-24T16:51:58.955Z"
   },
   {
    "duration": 11,
    "start_time": "2024-07-24T16:52:35.616Z"
   },
   {
    "duration": 11,
    "start_time": "2024-07-24T16:52:48.767Z"
   },
   {
    "duration": 12,
    "start_time": "2024-07-24T16:52:53.184Z"
   },
   {
    "duration": 9,
    "start_time": "2024-07-24T16:53:10.674Z"
   },
   {
    "duration": 10,
    "start_time": "2024-07-24T16:53:24.247Z"
   },
   {
    "duration": 11,
    "start_time": "2024-07-24T16:53:46.318Z"
   },
   {
    "duration": 13,
    "start_time": "2024-07-24T16:54:07.770Z"
   },
   {
    "duration": 20848,
    "start_time": "2024-07-24T16:55:50.748Z"
   },
   {
    "duration": 4999,
    "start_time": "2024-07-24T20:25:35.024Z"
   },
   {
    "duration": 53,
    "start_time": "2024-07-24T20:25:40.027Z"
   },
   {
    "duration": 31,
    "start_time": "2024-07-24T20:25:40.084Z"
   },
   {
    "duration": 50,
    "start_time": "2024-07-24T20:25:40.118Z"
   },
   {
    "duration": 5,
    "start_time": "2024-07-24T20:25:40.172Z"
   },
   {
    "duration": 15,
    "start_time": "2024-07-24T20:25:40.208Z"
   },
   {
    "duration": 13,
    "start_time": "2024-07-24T20:25:40.225Z"
   },
   {
    "duration": 19733,
    "start_time": "2024-07-24T20:26:09.679Z"
   },
   {
    "duration": 19316,
    "start_time": "2024-07-24T20:26:35.541Z"
   },
   {
    "duration": 20083,
    "start_time": "2024-07-24T20:27:30.853Z"
   },
   {
    "duration": 20396,
    "start_time": "2024-07-24T20:28:11.594Z"
   },
   {
    "duration": 20921,
    "start_time": "2024-07-24T20:29:07.825Z"
   },
   {
    "duration": 2678,
    "start_time": "2024-07-24T20:32:24.013Z"
   },
   {
    "duration": 6,
    "start_time": "2024-07-24T20:33:34.420Z"
   },
   {
    "duration": 42,
    "start_time": "2024-07-24T20:33:34.431Z"
   },
   {
    "duration": 37,
    "start_time": "2024-07-24T20:33:34.478Z"
   },
   {
    "duration": 53,
    "start_time": "2024-07-24T20:33:34.518Z"
   },
   {
    "duration": 10,
    "start_time": "2024-07-24T20:33:34.576Z"
   },
   {
    "duration": 23,
    "start_time": "2024-07-24T20:33:34.610Z"
   },
   {
    "duration": 13,
    "start_time": "2024-07-24T20:33:34.636Z"
   },
   {
    "duration": 5,
    "start_time": "2024-07-24T20:33:44.732Z"
   },
   {
    "duration": 35,
    "start_time": "2024-07-24T20:33:44.742Z"
   },
   {
    "duration": 17,
    "start_time": "2024-07-24T20:33:44.780Z"
   },
   {
    "duration": 54,
    "start_time": "2024-07-24T20:33:44.811Z"
   },
   {
    "duration": 5,
    "start_time": "2024-07-24T20:33:44.869Z"
   },
   {
    "duration": 44,
    "start_time": "2024-07-24T20:33:44.876Z"
   },
   {
    "duration": 223,
    "start_time": "2024-07-24T20:33:51.866Z"
   },
   {
    "duration": 13,
    "start_time": "2024-07-24T20:34:22.207Z"
   },
   {
    "duration": 15,
    "start_time": "2024-07-24T20:34:25.866Z"
   },
   {
    "duration": 330,
    "start_time": "2024-07-24T20:34:38.057Z"
   },
   {
    "duration": 473,
    "start_time": "2024-07-24T20:37:50.475Z"
   },
   {
    "duration": 81,
    "start_time": "2024-07-25T17:34:15.667Z"
   },
   {
    "duration": 84,
    "start_time": "2024-07-25T17:35:23.001Z"
   },
   {
    "duration": 7,
    "start_time": "2024-07-25T17:36:47.024Z"
   },
   {
    "duration": 82,
    "start_time": "2024-07-25T17:36:56.218Z"
   },
   {
    "duration": 82,
    "start_time": "2024-07-25T17:37:34.634Z"
   },
   {
    "duration": 6,
    "start_time": "2024-07-25T17:38:44.279Z"
   },
   {
    "duration": 84,
    "start_time": "2024-07-25T17:39:42.377Z"
   },
   {
    "duration": 13,
    "start_time": "2024-07-25T17:40:52.499Z"
   },
   {
    "duration": 10,
    "start_time": "2024-07-25T17:41:08.389Z"
   },
   {
    "duration": 1106,
    "start_time": "2024-07-25T17:41:24.491Z"
   },
   {
    "duration": 27,
    "start_time": "2024-07-25T17:41:38.204Z"
   },
   {
    "duration": 6,
    "start_time": "2024-07-25T17:41:57.334Z"
   },
   {
    "duration": 13,
    "start_time": "2024-07-25T17:42:00.805Z"
   },
   {
    "duration": 24,
    "start_time": "2024-07-25T17:42:03.098Z"
   },
   {
    "duration": 18,
    "start_time": "2024-07-25T17:42:26.499Z"
   },
   {
    "duration": 206,
    "start_time": "2024-07-25T17:43:00.620Z"
   },
   {
    "duration": 9,
    "start_time": "2024-07-25T17:44:36.139Z"
   },
   {
    "duration": 14,
    "start_time": "2024-07-25T17:44:41.505Z"
   },
   {
    "duration": 894,
    "start_time": "2024-07-25T17:45:15.064Z"
   },
   {
    "duration": 156,
    "start_time": "2024-07-25T17:45:30.364Z"
   },
   {
    "duration": 188,
    "start_time": "2024-07-25T17:46:11.353Z"
   },
   {
    "duration": 185,
    "start_time": "2024-07-25T17:49:44.666Z"
   },
   {
    "duration": 188,
    "start_time": "2024-07-25T17:50:10.789Z"
   },
   {
    "duration": 175,
    "start_time": "2024-07-25T17:50:22.571Z"
   },
   {
    "duration": 178,
    "start_time": "2024-07-25T17:54:57.168Z"
   },
   {
    "duration": 185,
    "start_time": "2024-07-25T17:55:10.732Z"
   },
   {
    "duration": 181,
    "start_time": "2024-07-25T17:55:23.583Z"
   },
   {
    "duration": 179,
    "start_time": "2024-07-25T17:55:34.089Z"
   },
   {
    "duration": 167,
    "start_time": "2024-07-25T17:55:57.684Z"
   },
   {
    "duration": 164,
    "start_time": "2024-07-25T17:56:04.477Z"
   },
   {
    "duration": 217,
    "start_time": "2024-07-25T17:57:55.204Z"
   },
   {
    "duration": 195,
    "start_time": "2024-07-25T18:00:03.084Z"
   },
   {
    "duration": 214,
    "start_time": "2024-07-25T18:00:41.375Z"
   },
   {
    "duration": 41,
    "start_time": "2024-07-25T18:02:00.425Z"
   },
   {
    "duration": 8,
    "start_time": "2024-07-25T18:02:21.584Z"
   },
   {
    "duration": 218,
    "start_time": "2024-07-25T18:02:32.742Z"
   },
   {
    "duration": 196,
    "start_time": "2024-07-25T18:03:14.115Z"
   },
   {
    "duration": 186,
    "start_time": "2024-07-25T18:03:25.353Z"
   },
   {
    "duration": 11,
    "start_time": "2024-07-25T18:06:41.499Z"
   },
   {
    "duration": 22,
    "start_time": "2024-07-25T18:06:52.074Z"
   },
   {
    "duration": 192,
    "start_time": "2024-07-25T18:07:09.620Z"
   },
   {
    "duration": 184,
    "start_time": "2024-07-25T18:15:37.577Z"
   },
   {
    "duration": 191,
    "start_time": "2024-07-25T18:17:23.447Z"
   },
   {
    "duration": 208,
    "start_time": "2024-07-25T18:17:52.559Z"
   },
   {
    "duration": 363,
    "start_time": "2024-07-25T18:18:04.455Z"
   },
   {
    "duration": 215,
    "start_time": "2024-07-25T18:18:12.052Z"
   },
   {
    "duration": 215,
    "start_time": "2024-07-25T18:19:06.064Z"
   },
   {
    "duration": 246,
    "start_time": "2024-07-25T18:22:46.357Z"
   },
   {
    "duration": 245,
    "start_time": "2024-07-25T18:32:55.277Z"
   },
   {
    "duration": 15,
    "start_time": "2024-07-25T18:33:03.165Z"
   },
   {
    "duration": 35,
    "start_time": "2024-07-25T18:33:22.972Z"
   },
   {
    "duration": 21,
    "start_time": "2024-07-25T18:33:30.688Z"
   },
   {
    "duration": 342,
    "start_time": "2024-07-25T18:35:08.476Z"
   },
   {
    "duration": 17,
    "start_time": "2024-07-25T18:35:56.768Z"
   },
   {
    "duration": 317,
    "start_time": "2024-07-25T18:36:00.564Z"
   },
   {
    "duration": 266,
    "start_time": "2024-07-25T18:36:40.385Z"
   },
   {
    "duration": 274,
    "start_time": "2024-07-25T18:36:47.545Z"
   },
   {
    "duration": 252,
    "start_time": "2024-07-25T18:36:54.912Z"
   },
   {
    "duration": 258,
    "start_time": "2024-07-25T18:42:50.512Z"
   },
   {
    "duration": 254,
    "start_time": "2024-07-25T18:44:00.229Z"
   },
   {
    "duration": 263,
    "start_time": "2024-07-25T18:44:40.039Z"
   },
   {
    "duration": 18,
    "start_time": "2024-07-25T18:45:57.632Z"
   },
   {
    "duration": 625,
    "start_time": "2024-07-25T18:45:59.513Z"
   },
   {
    "duration": 14,
    "start_time": "2024-07-25T18:46:29.809Z"
   },
   {
    "duration": 307,
    "start_time": "2024-07-25T18:46:32.040Z"
   },
   {
    "duration": 15,
    "start_time": "2024-07-25T18:46:56.369Z"
   },
   {
    "duration": 100,
    "start_time": "2024-07-25T18:47:07.889Z"
   },
   {
    "duration": 260,
    "start_time": "2024-07-25T18:49:32.766Z"
   },
   {
    "duration": 242,
    "start_time": "2024-07-25T18:49:43.097Z"
   },
   {
    "duration": 250,
    "start_time": "2024-07-25T18:50:23.653Z"
   },
   {
    "duration": 248,
    "start_time": "2024-07-25T18:54:20.847Z"
   },
   {
    "duration": 246,
    "start_time": "2024-07-25T18:54:27.696Z"
   },
   {
    "duration": 5172,
    "start_time": "2024-07-25T20:40:45.518Z"
   },
   {
    "duration": 49,
    "start_time": "2024-07-25T20:40:50.694Z"
   },
   {
    "duration": 21,
    "start_time": "2024-07-25T20:40:50.746Z"
   },
   {
    "duration": 56,
    "start_time": "2024-07-25T20:40:50.791Z"
   },
   {
    "duration": 5,
    "start_time": "2024-07-25T20:40:50.850Z"
   },
   {
    "duration": 43,
    "start_time": "2024-07-25T20:40:50.860Z"
   },
   {
    "duration": 17,
    "start_time": "2024-07-25T20:40:50.906Z"
   },
   {
    "duration": 246,
    "start_time": "2024-07-25T20:41:01.415Z"
   },
   {
    "duration": 248,
    "start_time": "2024-07-25T20:41:15.436Z"
   },
   {
    "duration": 759,
    "start_time": "2024-07-25T20:41:37.696Z"
   },
   {
    "duration": 303,
    "start_time": "2024-07-25T20:41:54.623Z"
   },
   {
    "duration": 274,
    "start_time": "2024-07-25T20:43:53.254Z"
   },
   {
    "duration": 277,
    "start_time": "2024-07-25T20:43:58.561Z"
   },
   {
    "duration": 271,
    "start_time": "2024-07-25T20:44:05.757Z"
   },
   {
    "duration": 273,
    "start_time": "2024-07-25T20:47:03.921Z"
   },
   {
    "duration": 268,
    "start_time": "2024-07-25T20:47:09.094Z"
   },
   {
    "duration": 284,
    "start_time": "2024-07-25T20:47:17.954Z"
   },
   {
    "duration": 272,
    "start_time": "2024-07-25T20:47:23.272Z"
   },
   {
    "duration": 273,
    "start_time": "2024-07-25T20:47:27.620Z"
   },
   {
    "duration": 267,
    "start_time": "2024-07-25T20:49:19.512Z"
   },
   {
    "duration": 291,
    "start_time": "2024-07-25T20:51:19.804Z"
   },
   {
    "duration": 391,
    "start_time": "2024-07-25T20:51:37.454Z"
   },
   {
    "duration": 283,
    "start_time": "2024-07-25T20:51:48.080Z"
   },
   {
    "duration": 5151,
    "start_time": "2024-07-27T15:01:16.908Z"
   },
   {
    "duration": 55,
    "start_time": "2024-07-27T15:01:22.063Z"
   },
   {
    "duration": 18,
    "start_time": "2024-07-27T15:01:22.121Z"
   },
   {
    "duration": 49,
    "start_time": "2024-07-27T15:01:22.143Z"
   },
   {
    "duration": 29,
    "start_time": "2024-07-27T15:01:22.195Z"
   },
   {
    "duration": 16,
    "start_time": "2024-07-27T15:01:22.228Z"
   },
   {
    "duration": 17,
    "start_time": "2024-07-27T15:01:22.247Z"
   },
   {
    "duration": 291,
    "start_time": "2024-07-27T15:01:27.262Z"
   },
   {
    "duration": 747,
    "start_time": "2024-07-27T15:11:47.590Z"
   },
   {
    "duration": 283,
    "start_time": "2024-07-27T15:12:10.268Z"
   },
   {
    "duration": 268,
    "start_time": "2024-07-27T15:13:25.457Z"
   },
   {
    "duration": 266,
    "start_time": "2024-07-27T15:13:31.509Z"
   },
   {
    "duration": 262,
    "start_time": "2024-07-27T15:13:38.552Z"
   },
   {
    "duration": 5,
    "start_time": "2024-07-27T15:16:10.968Z"
   },
   {
    "duration": 49,
    "start_time": "2024-07-27T15:16:10.977Z"
   },
   {
    "duration": 17,
    "start_time": "2024-07-27T15:16:11.029Z"
   },
   {
    "duration": 85,
    "start_time": "2024-07-27T15:16:11.050Z"
   },
   {
    "duration": 5,
    "start_time": "2024-07-27T15:16:11.137Z"
   },
   {
    "duration": 20,
    "start_time": "2024-07-27T15:16:11.145Z"
   },
   {
    "duration": 57,
    "start_time": "2024-07-27T15:16:11.168Z"
   },
   {
    "duration": 279,
    "start_time": "2024-07-27T15:16:19.405Z"
   },
   {
    "duration": 264,
    "start_time": "2024-07-27T15:16:25.030Z"
   },
   {
    "duration": 264,
    "start_time": "2024-07-27T15:18:53.753Z"
   },
   {
    "duration": 273,
    "start_time": "2024-07-27T15:18:59.431Z"
   },
   {
    "duration": 347,
    "start_time": "2024-07-27T15:20:00.676Z"
   },
   {
    "duration": 260,
    "start_time": "2024-07-27T15:20:06.962Z"
   },
   {
    "duration": 249,
    "start_time": "2024-07-27T15:22:51.562Z"
   },
   {
    "duration": 262,
    "start_time": "2024-07-27T15:24:12.036Z"
   },
   {
    "duration": 262,
    "start_time": "2024-07-27T15:24:28.534Z"
   },
   {
    "duration": 263,
    "start_time": "2024-07-27T15:24:38.362Z"
   },
   {
    "duration": 245,
    "start_time": "2024-07-27T15:25:13.619Z"
   },
   {
    "duration": 19174,
    "start_time": "2024-07-27T15:26:05.302Z"
   },
   {
    "duration": 5,
    "start_time": "2024-07-27T15:27:41.203Z"
   },
   {
    "duration": 42,
    "start_time": "2024-07-27T15:27:41.212Z"
   },
   {
    "duration": 18,
    "start_time": "2024-07-27T15:27:41.257Z"
   },
   {
    "duration": 84,
    "start_time": "2024-07-27T15:27:41.279Z"
   },
   {
    "duration": 5,
    "start_time": "2024-07-27T15:27:41.367Z"
   },
   {
    "duration": 16,
    "start_time": "2024-07-27T15:27:41.376Z"
   },
   {
    "duration": 15,
    "start_time": "2024-07-27T15:27:41.422Z"
   },
   {
    "duration": 272,
    "start_time": "2024-07-27T15:27:41.442Z"
   },
   {
    "duration": 12,
    "start_time": "2024-07-27T15:27:41.722Z"
   },
   {
    "duration": 14,
    "start_time": "2024-07-27T15:27:41.737Z"
   },
   {
    "duration": 21,
    "start_time": "2024-07-27T15:27:41.754Z"
   },
   {
    "duration": 47,
    "start_time": "2024-07-27T15:27:41.778Z"
   },
   {
    "duration": 212,
    "start_time": "2024-07-27T15:28:44.969Z"
   },
   {
    "duration": 31,
    "start_time": "2024-07-27T15:33:01.926Z"
   },
   {
    "duration": 6,
    "start_time": "2024-07-27T15:33:07.422Z"
   },
   {
    "duration": 37,
    "start_time": "2024-07-27T15:33:07.433Z"
   },
   {
    "duration": 51,
    "start_time": "2024-07-27T15:33:07.473Z"
   },
   {
    "duration": 50,
    "start_time": "2024-07-27T15:33:07.527Z"
   },
   {
    "duration": 5,
    "start_time": "2024-07-27T15:33:07.581Z"
   },
   {
    "duration": 46,
    "start_time": "2024-07-27T15:33:07.589Z"
   },
   {
    "duration": 14,
    "start_time": "2024-07-27T15:33:07.638Z"
   },
   {
    "duration": 292,
    "start_time": "2024-07-27T15:33:07.655Z"
   },
   {
    "duration": 13,
    "start_time": "2024-07-27T15:33:07.950Z"
   },
   {
    "duration": 12,
    "start_time": "2024-07-27T15:33:07.966Z"
   },
   {
    "duration": 58,
    "start_time": "2024-07-27T15:33:07.981Z"
   },
   {
    "duration": 7,
    "start_time": "2024-07-27T15:33:08.044Z"
   },
   {
    "duration": 247,
    "start_time": "2024-07-27T15:33:08.055Z"
   },
   {
    "duration": 20,
    "start_time": "2024-07-27T15:33:08.308Z"
   },
   {
    "duration": 4001,
    "start_time": "2024-07-27T15:33:08.331Z"
   },
   {
    "duration": 148,
    "start_time": "2024-07-27T15:33:12.335Z"
   },
   {
    "duration": 137,
    "start_time": "2024-07-27T15:33:12.486Z"
   },
   {
    "duration": 123,
    "start_time": "2024-07-27T15:33:14.771Z"
   },
   {
    "duration": 127,
    "start_time": "2024-07-27T15:33:32.013Z"
   },
   {
    "duration": 125,
    "start_time": "2024-07-27T15:33:48.516Z"
   },
   {
    "duration": 312,
    "start_time": "2024-07-27T15:33:55.870Z"
   },
   {
    "duration": 997,
    "start_time": "2024-07-27T15:34:12.671Z"
   },
   {
    "duration": 3248,
    "start_time": "2024-07-27T15:34:19.710Z"
   },
   {
    "duration": 3224,
    "start_time": "2024-07-27T15:35:00.744Z"
   },
   {
    "duration": 3238,
    "start_time": "2024-07-27T15:35:38.498Z"
   },
   {
    "duration": 5,
    "start_time": "2024-07-27T16:23:07.223Z"
   },
   {
    "duration": 39,
    "start_time": "2024-07-27T16:23:07.233Z"
   },
   {
    "duration": 15,
    "start_time": "2024-07-27T16:23:07.277Z"
   },
   {
    "duration": 76,
    "start_time": "2024-07-27T16:23:07.295Z"
   },
   {
    "duration": 4,
    "start_time": "2024-07-27T16:23:07.377Z"
   },
   {
    "duration": 40,
    "start_time": "2024-07-27T16:23:07.384Z"
   },
   {
    "duration": 14,
    "start_time": "2024-07-27T16:23:07.427Z"
   },
   {
    "duration": 285,
    "start_time": "2024-07-27T16:23:07.444Z"
   },
   {
    "duration": 14,
    "start_time": "2024-07-27T16:23:07.731Z"
   },
   {
    "duration": 14,
    "start_time": "2024-07-27T16:23:07.748Z"
   },
   {
    "duration": 20,
    "start_time": "2024-07-27T16:23:07.765Z"
   },
   {
    "duration": 7,
    "start_time": "2024-07-27T16:23:07.824Z"
   },
   {
    "duration": 231,
    "start_time": "2024-07-27T16:23:07.834Z"
   },
   {
    "duration": 8,
    "start_time": "2024-07-27T16:23:08.071Z"
   },
   {
    "duration": 4029,
    "start_time": "2024-07-27T16:23:08.081Z"
   },
   {
    "duration": 143,
    "start_time": "2024-07-27T16:23:12.113Z"
   },
   {
    "duration": 3217,
    "start_time": "2024-07-27T16:23:12.259Z"
   },
   {
    "duration": 30,
    "start_time": "2024-07-27T16:23:48.199Z"
   },
   {
    "duration": 1488,
    "start_time": "2024-07-27T16:24:05.126Z"
   },
   {
    "duration": 5,
    "start_time": "2024-07-27T16:24:48.150Z"
   },
   {
    "duration": 27,
    "start_time": "2024-07-27T16:25:05.680Z"
   },
   {
    "duration": 6,
    "start_time": "2024-07-27T16:25:09.794Z"
   },
   {
    "duration": 23,
    "start_time": "2024-07-27T16:25:19.823Z"
   },
   {
    "duration": 6,
    "start_time": "2024-07-27T16:25:24.610Z"
   },
   {
    "duration": 21,
    "start_time": "2024-07-27T16:25:36.790Z"
   },
   {
    "duration": 5,
    "start_time": "2024-07-27T16:25:47.799Z"
   },
   {
    "duration": 23,
    "start_time": "2024-07-27T16:25:53.856Z"
   },
   {
    "duration": 4,
    "start_time": "2024-07-27T16:26:15.370Z"
   },
   {
    "duration": 78,
    "start_time": "2024-07-27T16:26:22.419Z"
   },
   {
    "duration": 10,
    "start_time": "2024-07-27T16:26:33.158Z"
   },
   {
    "duration": 11,
    "start_time": "2024-07-27T16:27:12.696Z"
   },
   {
    "duration": 23,
    "start_time": "2024-07-27T16:29:12.586Z"
   },
   {
    "duration": 23,
    "start_time": "2024-07-27T16:35:23.276Z"
   },
   {
    "duration": 23,
    "start_time": "2024-07-27T16:35:52.617Z"
   },
   {
    "duration": 24,
    "start_time": "2024-07-27T16:36:58.768Z"
   },
   {
    "duration": 23,
    "start_time": "2024-07-27T16:37:13.293Z"
   },
   {
    "duration": 23,
    "start_time": "2024-07-27T16:37:39.328Z"
   },
   {
    "duration": 24,
    "start_time": "2024-07-27T16:39:23.192Z"
   },
   {
    "duration": 27,
    "start_time": "2024-07-27T16:39:40.997Z"
   },
   {
    "duration": 21,
    "start_time": "2024-07-27T16:40:21.753Z"
   },
   {
    "duration": 5,
    "start_time": "2024-07-27T16:40:26.967Z"
   },
   {
    "duration": 6,
    "start_time": "2024-07-27T16:40:36.478Z"
   },
   {
    "duration": 3,
    "start_time": "2024-07-27T16:46:48.596Z"
   },
   {
    "duration": 4,
    "start_time": "2024-07-27T16:47:04.202Z"
   },
   {
    "duration": 8,
    "start_time": "2024-07-27T16:49:09.742Z"
   },
   {
    "duration": 29,
    "start_time": "2024-07-27T16:49:32.663Z"
   },
   {
    "duration": 7,
    "start_time": "2024-07-27T16:49:49.987Z"
   },
   {
    "duration": 34,
    "start_time": "2024-07-27T16:50:15.527Z"
   },
   {
    "duration": 5,
    "start_time": "2024-07-27T16:50:42.319Z"
   },
   {
    "duration": 6,
    "start_time": "2024-07-27T16:50:54.968Z"
   },
   {
    "duration": 8,
    "start_time": "2024-07-27T16:50:59.950Z"
   },
   {
    "duration": 5,
    "start_time": "2024-07-27T16:56:49.187Z"
   },
   {
    "duration": 36,
    "start_time": "2024-07-27T16:56:49.202Z"
   },
   {
    "duration": 16,
    "start_time": "2024-07-27T16:56:49.243Z"
   },
   {
    "duration": 77,
    "start_time": "2024-07-27T16:56:49.262Z"
   },
   {
    "duration": 5,
    "start_time": "2024-07-27T16:56:49.343Z"
   },
   {
    "duration": 15,
    "start_time": "2024-07-27T16:56:49.353Z"
   },
   {
    "duration": 56,
    "start_time": "2024-07-27T16:56:49.371Z"
   },
   {
    "duration": 265,
    "start_time": "2024-07-27T16:56:49.430Z"
   },
   {
    "duration": 31,
    "start_time": "2024-07-27T16:56:49.697Z"
   },
   {
    "duration": 13,
    "start_time": "2024-07-27T16:56:49.731Z"
   },
   {
    "duration": 22,
    "start_time": "2024-07-27T16:56:49.747Z"
   },
   {
    "duration": 6,
    "start_time": "2024-07-27T16:56:49.772Z"
   },
   {
    "duration": 269,
    "start_time": "2024-07-27T16:56:49.780Z"
   },
   {
    "duration": 10,
    "start_time": "2024-07-27T16:56:50.052Z"
   },
   {
    "duration": 3995,
    "start_time": "2024-07-27T16:56:50.067Z"
   },
   {
    "duration": 148,
    "start_time": "2024-07-27T16:56:54.065Z"
   },
   {
    "duration": 3237,
    "start_time": "2024-07-27T16:56:54.216Z"
   },
   {
    "duration": 4,
    "start_time": "2024-07-27T16:57:00.650Z"
   },
   {
    "duration": 5,
    "start_time": "2024-07-27T16:57:26.863Z"
   },
   {
    "duration": 5,
    "start_time": "2024-07-27T16:58:25.923Z"
   },
   {
    "duration": 6,
    "start_time": "2024-07-27T16:59:52.564Z"
   },
   {
    "duration": 5,
    "start_time": "2024-07-27T16:59:58.741Z"
   },
   {
    "duration": 39,
    "start_time": "2024-07-27T16:59:58.750Z"
   },
   {
    "duration": 32,
    "start_time": "2024-07-27T16:59:58.793Z"
   },
   {
    "duration": 49,
    "start_time": "2024-07-27T16:59:58.828Z"
   },
   {
    "duration": 4,
    "start_time": "2024-07-27T16:59:58.882Z"
   },
   {
    "duration": 48,
    "start_time": "2024-07-27T16:59:58.889Z"
   },
   {
    "duration": 17,
    "start_time": "2024-07-27T16:59:58.940Z"
   },
   {
    "duration": 281,
    "start_time": "2024-07-27T16:59:58.961Z"
   },
   {
    "duration": 13,
    "start_time": "2024-07-27T16:59:59.245Z"
   },
   {
    "duration": 14,
    "start_time": "2024-07-27T16:59:59.261Z"
   },
   {
    "duration": 57,
    "start_time": "2024-07-27T16:59:59.279Z"
   },
   {
    "duration": 6,
    "start_time": "2024-07-27T16:59:59.339Z"
   },
   {
    "duration": 258,
    "start_time": "2024-07-27T16:59:59.349Z"
   },
   {
    "duration": 9,
    "start_time": "2024-07-27T16:59:59.622Z"
   },
   {
    "duration": 4005,
    "start_time": "2024-07-27T16:59:59.634Z"
   },
   {
    "duration": 153,
    "start_time": "2024-07-27T17:00:03.641Z"
   },
   {
    "duration": 3233,
    "start_time": "2024-07-27T17:00:03.799Z"
   },
   {
    "duration": 30,
    "start_time": "2024-07-27T17:00:07.036Z"
   },
   {
    "duration": 5,
    "start_time": "2024-07-27T17:00:07.069Z"
   },
   {
    "duration": 8,
    "start_time": "2024-07-27T17:00:17.579Z"
   },
   {
    "duration": 7,
    "start_time": "2024-07-27T17:00:30.075Z"
   },
   {
    "duration": 7,
    "start_time": "2024-07-27T17:00:41.636Z"
   },
   {
    "duration": 8,
    "start_time": "2024-07-27T17:00:54.149Z"
   },
   {
    "duration": 6,
    "start_time": "2024-07-27T17:01:59.580Z"
   },
   {
    "duration": 13,
    "start_time": "2024-07-27T17:10:31.075Z"
   },
   {
    "duration": 11,
    "start_time": "2024-07-27T17:12:48.605Z"
   },
   {
    "duration": 15,
    "start_time": "2024-07-27T17:30:00.855Z"
   },
   {
    "duration": 22,
    "start_time": "2024-07-27T17:30:24.078Z"
   },
   {
    "duration": 15,
    "start_time": "2024-07-27T17:30:31.497Z"
   },
   {
    "duration": 6,
    "start_time": "2024-07-27T17:34:15.097Z"
   },
   {
    "duration": 40,
    "start_time": "2024-07-27T17:34:15.114Z"
   },
   {
    "duration": 19,
    "start_time": "2024-07-27T17:34:15.159Z"
   },
   {
    "duration": 82,
    "start_time": "2024-07-27T17:34:15.182Z"
   },
   {
    "duration": 6,
    "start_time": "2024-07-27T17:34:15.270Z"
   },
   {
    "duration": 46,
    "start_time": "2024-07-27T17:34:15.280Z"
   },
   {
    "duration": 18,
    "start_time": "2024-07-27T17:34:15.330Z"
   },
   {
    "duration": 302,
    "start_time": "2024-07-27T17:34:15.351Z"
   },
   {
    "duration": 18,
    "start_time": "2024-07-27T17:34:15.660Z"
   },
   {
    "duration": 41,
    "start_time": "2024-07-27T17:34:15.682Z"
   },
   {
    "duration": 35,
    "start_time": "2024-07-27T17:34:15.728Z"
   },
   {
    "duration": 6,
    "start_time": "2024-07-27T17:34:15.769Z"
   },
   {
    "duration": 246,
    "start_time": "2024-07-27T17:34:15.779Z"
   },
   {
    "duration": 9,
    "start_time": "2024-07-27T17:34:16.029Z"
   },
   {
    "duration": 4283,
    "start_time": "2024-07-27T17:34:16.041Z"
   },
   {
    "duration": 152,
    "start_time": "2024-07-27T17:34:20.329Z"
   },
   {
    "duration": 3297,
    "start_time": "2024-07-27T17:34:20.484Z"
   },
   {
    "duration": 24,
    "start_time": "2024-07-27T17:34:31.814Z"
   },
   {
    "duration": 6,
    "start_time": "2024-07-27T17:34:53.509Z"
   },
   {
    "duration": 11,
    "start_time": "2024-07-27T17:35:09.544Z"
   },
   {
    "duration": 72,
    "start_time": "2024-07-27T17:50:31.698Z"
   },
   {
    "duration": 6,
    "start_time": "2024-07-27T17:50:57.895Z"
   },
   {
    "duration": 5,
    "start_time": "2024-07-27T17:53:56.377Z"
   },
   {
    "duration": 202,
    "start_time": "2024-07-27T17:53:59.948Z"
   },
   {
    "duration": 6,
    "start_time": "2024-07-27T17:54:20.265Z"
   },
   {
    "duration": 112,
    "start_time": "2024-07-27T17:54:23.237Z"
   },
   {
    "duration": 9,
    "start_time": "2024-07-27T17:54:54.150Z"
   },
   {
    "duration": 7,
    "start_time": "2024-07-27T18:06:01.212Z"
   },
   {
    "duration": 50,
    "start_time": "2024-07-27T18:06:01.223Z"
   },
   {
    "duration": 19,
    "start_time": "2024-07-27T18:06:01.276Z"
   },
   {
    "duration": 60,
    "start_time": "2024-07-27T18:06:01.324Z"
   },
   {
    "duration": 4,
    "start_time": "2024-07-27T18:06:01.390Z"
   },
   {
    "duration": 17,
    "start_time": "2024-07-27T18:06:01.427Z"
   },
   {
    "duration": 16,
    "start_time": "2024-07-27T18:06:01.447Z"
   },
   {
    "duration": 366,
    "start_time": "2024-07-27T18:06:01.466Z"
   },
   {
    "duration": 17,
    "start_time": "2024-07-27T18:06:01.835Z"
   },
   {
    "duration": 15,
    "start_time": "2024-07-27T18:06:01.855Z"
   },
   {
    "duration": 60,
    "start_time": "2024-07-27T18:06:01.873Z"
   },
   {
    "duration": 6,
    "start_time": "2024-07-27T18:06:01.937Z"
   },
   {
    "duration": 401,
    "start_time": "2024-07-27T18:06:01.947Z"
   },
   {
    "duration": 11,
    "start_time": "2024-07-27T18:06:02.354Z"
   },
   {
    "duration": 4958,
    "start_time": "2024-07-27T18:06:02.368Z"
   },
   {
    "duration": 167,
    "start_time": "2024-07-27T18:06:07.330Z"
   },
   {
    "duration": 3395,
    "start_time": "2024-07-27T18:06:07.500Z"
   },
   {
    "duration": 109,
    "start_time": "2024-07-27T18:06:14.019Z"
   },
   {
    "duration": 84,
    "start_time": "2024-07-27T18:07:29.193Z"
   },
   {
    "duration": 60,
    "start_time": "2024-07-27T18:07:49.191Z"
   },
   {
    "duration": 671,
    "start_time": "2024-07-27T18:10:07.138Z"
   },
   {
    "duration": 4048,
    "start_time": "2024-07-27T18:10:37.999Z"
   },
   {
    "duration": 4043,
    "start_time": "2024-07-27T18:11:59.995Z"
   },
   {
    "duration": 6,
    "start_time": "2024-07-27T18:12:37.355Z"
   },
   {
    "duration": 48,
    "start_time": "2024-07-27T18:12:37.371Z"
   },
   {
    "duration": 20,
    "start_time": "2024-07-27T18:12:37.422Z"
   },
   {
    "duration": 78,
    "start_time": "2024-07-27T18:12:37.445Z"
   },
   {
    "duration": 4,
    "start_time": "2024-07-27T18:12:37.527Z"
   },
   {
    "duration": 15,
    "start_time": "2024-07-27T18:12:37.537Z"
   },
   {
    "duration": 17,
    "start_time": "2024-07-27T18:12:37.555Z"
   },
   {
    "duration": 327,
    "start_time": "2024-07-27T18:12:37.575Z"
   },
   {
    "duration": 27,
    "start_time": "2024-07-27T18:12:37.906Z"
   },
   {
    "duration": 13,
    "start_time": "2024-07-27T18:12:37.936Z"
   },
   {
    "duration": 20,
    "start_time": "2024-07-27T18:12:37.952Z"
   },
   {
    "duration": 6,
    "start_time": "2024-07-27T18:12:37.975Z"
   },
   {
    "duration": 237,
    "start_time": "2024-07-27T18:12:38.024Z"
   },
   {
    "duration": 11,
    "start_time": "2024-07-27T18:12:38.264Z"
   },
   {
    "duration": 4077,
    "start_time": "2024-07-27T18:12:38.280Z"
   },
   {
    "duration": 151,
    "start_time": "2024-07-27T18:12:42.360Z"
   },
   {
    "duration": 3259,
    "start_time": "2024-07-27T18:12:42.515Z"
   },
   {
    "duration": 94,
    "start_time": "2024-07-27T18:12:45.777Z"
   },
   {
    "duration": 51,
    "start_time": "2024-07-27T18:12:45.881Z"
   },
   {
    "duration": 84,
    "start_time": "2024-07-27T18:12:45.939Z"
   },
   {
    "duration": 4054,
    "start_time": "2024-07-27T18:12:46.028Z"
   },
   {
    "duration": 8277,
    "start_time": "2024-07-27T18:13:42.249Z"
   },
   {
    "duration": 22,
    "start_time": "2024-07-27T18:14:39.188Z"
   },
   {
    "duration": 8163,
    "start_time": "2024-07-27T18:14:41.561Z"
   },
   {
    "duration": 257,
    "start_time": "2024-07-27T18:15:41.709Z"
   },
   {
    "duration": 134,
    "start_time": "2024-07-27T18:15:53.501Z"
   },
   {
    "duration": 5967,
    "start_time": "2024-07-27T18:16:38.256Z"
   },
   {
    "duration": 3227,
    "start_time": "2024-07-27T18:16:55.072Z"
   },
   {
    "duration": 41,
    "start_time": "2024-07-27T18:17:47.199Z"
   },
   {
    "duration": 71,
    "start_time": "2024-07-27T18:17:55.857Z"
   },
   {
    "duration": 21,
    "start_time": "2024-07-27T18:23:44.670Z"
   },
   {
    "duration": 22,
    "start_time": "2024-07-27T18:24:47.753Z"
   },
   {
    "duration": 8160,
    "start_time": "2024-07-27T18:24:50.466Z"
   },
   {
    "duration": 7,
    "start_time": "2024-07-27T18:26:03.951Z"
   },
   {
    "duration": 8,
    "start_time": "2024-07-27T18:27:02.517Z"
   },
   {
    "duration": 21,
    "start_time": "2024-07-27T18:27:08.407Z"
   },
   {
    "duration": 17,
    "start_time": "2024-07-27T18:27:40.199Z"
   },
   {
    "duration": 1507,
    "start_time": "2024-07-27T18:28:38.454Z"
   },
   {
    "duration": 65,
    "start_time": "2024-07-27T18:29:18.221Z"
   },
   {
    "duration": 883,
    "start_time": "2024-07-27T18:29:43.803Z"
   },
   {
    "duration": 19,
    "start_time": "2024-07-27T18:30:08.107Z"
   },
   {
    "duration": 100,
    "start_time": "2024-07-27T19:06:45.453Z"
   },
   {
    "duration": 9,
    "start_time": "2024-07-27T19:07:02.694Z"
   },
   {
    "duration": 195,
    "start_time": "2024-07-27T19:07:06.435Z"
   },
   {
    "duration": 29,
    "start_time": "2024-07-27T19:12:19.603Z"
   },
   {
    "duration": 6,
    "start_time": "2024-07-27T19:12:39.452Z"
   },
   {
    "duration": 8,
    "start_time": "2024-07-27T19:12:43.171Z"
   },
   {
    "duration": 5282,
    "start_time": "2024-07-27T19:59:16.250Z"
   },
   {
    "duration": 64,
    "start_time": "2024-07-27T19:59:21.537Z"
   },
   {
    "duration": 18,
    "start_time": "2024-07-27T19:59:21.605Z"
   },
   {
    "duration": 74,
    "start_time": "2024-07-27T19:59:21.628Z"
   },
   {
    "duration": 5,
    "start_time": "2024-07-27T19:59:21.705Z"
   },
   {
    "duration": 19,
    "start_time": "2024-07-27T19:59:21.713Z"
   },
   {
    "duration": 16,
    "start_time": "2024-07-27T19:59:21.740Z"
   },
   {
    "duration": 340,
    "start_time": "2024-07-27T19:59:21.760Z"
   },
   {
    "duration": 14,
    "start_time": "2024-07-27T19:59:22.104Z"
   },
   {
    "duration": 14,
    "start_time": "2024-07-27T19:59:22.124Z"
   },
   {
    "duration": 23,
    "start_time": "2024-07-27T19:59:22.141Z"
   },
   {
    "duration": 38,
    "start_time": "2024-07-27T19:59:22.167Z"
   },
   {
    "duration": 250,
    "start_time": "2024-07-27T19:59:22.208Z"
   },
   {
    "duration": 10,
    "start_time": "2024-07-27T19:59:22.462Z"
   },
   {
    "duration": 4216,
    "start_time": "2024-07-27T19:59:22.475Z"
   },
   {
    "duration": 154,
    "start_time": "2024-07-27T19:59:26.694Z"
   },
   {
    "duration": 3319,
    "start_time": "2024-07-27T19:59:26.852Z"
   },
   {
    "duration": 52,
    "start_time": "2024-07-27T19:59:30.174Z"
   },
   {
    "duration": 646,
    "start_time": "2024-07-27T19:59:30.228Z"
   },
   {
    "duration": 0,
    "start_time": "2024-07-27T19:59:30.877Z"
   },
   {
    "duration": 0,
    "start_time": "2024-07-27T19:59:30.879Z"
   },
   {
    "duration": 0,
    "start_time": "2024-07-27T19:59:30.881Z"
   },
   {
    "duration": 0,
    "start_time": "2024-07-27T19:59:30.883Z"
   },
   {
    "duration": 0,
    "start_time": "2024-07-27T19:59:30.885Z"
   },
   {
    "duration": 262,
    "start_time": "2024-07-27T20:01:09.183Z"
   },
   {
    "duration": 10,
    "start_time": "2024-07-27T20:05:26.758Z"
   },
   {
    "duration": 26,
    "start_time": "2024-07-27T20:05:31.470Z"
   },
   {
    "duration": 23,
    "start_time": "2024-07-27T20:05:55.324Z"
   },
   {
    "duration": 1524,
    "start_time": "2024-07-27T20:05:57.046Z"
   },
   {
    "duration": 65,
    "start_time": "2024-07-27T20:06:02.117Z"
   },
   {
    "duration": 910,
    "start_time": "2024-07-27T20:06:02.517Z"
   },
   {
    "duration": 22,
    "start_time": "2024-07-27T20:06:03.431Z"
   },
   {
    "duration": 24,
    "start_time": "2024-07-27T20:07:14.313Z"
   },
   {
    "duration": 8647,
    "start_time": "2024-07-27T20:07:17.200Z"
   },
   {
    "duration": 291,
    "start_time": "2024-07-27T20:07:25.854Z"
   },
   {
    "duration": 6315,
    "start_time": "2024-07-27T20:07:26.149Z"
   },
   {
    "duration": 82,
    "start_time": "2024-07-27T20:07:32.468Z"
   },
   {
    "duration": 17,
    "start_time": "2024-07-27T20:07:45.822Z"
   },
   {
    "duration": 1554,
    "start_time": "2024-07-27T20:07:46.528Z"
   },
   {
    "duration": 79,
    "start_time": "2024-07-27T20:07:48.086Z"
   },
   {
    "duration": 924,
    "start_time": "2024-07-27T20:07:48.168Z"
   },
   {
    "duration": 21,
    "start_time": "2024-07-27T20:07:49.103Z"
   },
   {
    "duration": 167,
    "start_time": "2024-07-27T20:31:39.034Z"
   },
   {
    "duration": 10,
    "start_time": "2024-07-27T20:31:42.165Z"
   },
   {
    "duration": 56,
    "start_time": "2024-07-27T20:31:43.862Z"
   },
   {
    "duration": 9,
    "start_time": "2024-07-27T20:32:13.347Z"
   },
   {
    "duration": 7,
    "start_time": "2024-07-27T20:32:15.568Z"
   },
   {
    "duration": 9,
    "start_time": "2024-07-27T20:32:37.682Z"
   },
   {
    "duration": 37,
    "start_time": "2024-07-27T20:32:37.697Z"
   },
   {
    "duration": 18,
    "start_time": "2024-07-27T20:32:37.738Z"
   },
   {
    "duration": 81,
    "start_time": "2024-07-27T20:32:37.759Z"
   },
   {
    "duration": 5,
    "start_time": "2024-07-27T20:32:37.845Z"
   },
   {
    "duration": 48,
    "start_time": "2024-07-27T20:32:37.854Z"
   },
   {
    "duration": 15,
    "start_time": "2024-07-27T20:32:37.905Z"
   },
   {
    "duration": 292,
    "start_time": "2024-07-27T20:32:37.923Z"
   },
   {
    "duration": 18,
    "start_time": "2024-07-27T20:32:38.221Z"
   },
   {
    "duration": 14,
    "start_time": "2024-07-27T20:32:38.242Z"
   },
   {
    "duration": 46,
    "start_time": "2024-07-27T20:32:38.259Z"
   },
   {
    "duration": 7,
    "start_time": "2024-07-27T20:32:38.308Z"
   },
   {
    "duration": 248,
    "start_time": "2024-07-27T20:32:38.319Z"
   },
   {
    "duration": 8,
    "start_time": "2024-07-27T20:32:38.574Z"
   },
   {
    "duration": 8,
    "start_time": "2024-07-27T20:32:38.601Z"
   },
   {
    "duration": 4032,
    "start_time": "2024-07-27T20:32:38.612Z"
   },
   {
    "duration": 155,
    "start_time": "2024-07-27T20:32:42.647Z"
   },
   {
    "duration": 3246,
    "start_time": "2024-07-27T20:32:42.805Z"
   },
   {
    "duration": 62,
    "start_time": "2024-07-27T20:32:46.054Z"
   },
   {
    "duration": 7,
    "start_time": "2024-07-27T20:32:46.119Z"
   },
   {
    "duration": 173,
    "start_time": "2024-07-27T20:32:46.129Z"
   },
   {
    "duration": 8255,
    "start_time": "2024-07-27T20:32:46.308Z"
   },
   {
    "duration": 262,
    "start_time": "2024-07-27T20:32:54.566Z"
   },
   {
    "duration": 6175,
    "start_time": "2024-07-27T20:32:54.832Z"
   },
   {
    "duration": 99,
    "start_time": "2024-07-27T20:33:01.010Z"
   },
   {
    "duration": 96,
    "start_time": "2024-07-27T20:33:01.112Z"
   },
   {
    "duration": 1479,
    "start_time": "2024-07-27T20:33:01.211Z"
   },
   {
    "duration": 68,
    "start_time": "2024-07-27T20:33:02.694Z"
   },
   {
    "duration": 914,
    "start_time": "2024-07-27T20:33:02.765Z"
   },
   {
    "duration": 32,
    "start_time": "2024-07-27T20:33:03.682Z"
   },
   {
    "duration": 5206,
    "start_time": "2024-07-27T21:18:29.327Z"
   },
   {
    "duration": 54,
    "start_time": "2024-07-27T21:18:34.537Z"
   },
   {
    "duration": 17,
    "start_time": "2024-07-27T21:18:34.594Z"
   },
   {
    "duration": 59,
    "start_time": "2024-07-27T21:18:34.614Z"
   },
   {
    "duration": 5,
    "start_time": "2024-07-27T21:18:34.677Z"
   },
   {
    "duration": 48,
    "start_time": "2024-07-27T21:18:34.685Z"
   },
   {
    "duration": 15,
    "start_time": "2024-07-27T21:18:34.735Z"
   },
   {
    "duration": 296,
    "start_time": "2024-07-27T21:18:34.753Z"
   },
   {
    "duration": 13,
    "start_time": "2024-07-27T21:18:35.052Z"
   },
   {
    "duration": 13,
    "start_time": "2024-07-27T21:18:35.068Z"
   },
   {
    "duration": 54,
    "start_time": "2024-07-27T21:18:35.084Z"
   },
   {
    "duration": 6,
    "start_time": "2024-07-27T21:18:35.141Z"
   },
   {
    "duration": 248,
    "start_time": "2024-07-27T21:18:35.150Z"
   },
   {
    "duration": 23,
    "start_time": "2024-07-27T21:18:35.404Z"
   },
   {
    "duration": 8,
    "start_time": "2024-07-27T21:18:35.430Z"
   },
   {
    "duration": 3914,
    "start_time": "2024-07-27T21:18:35.441Z"
   },
   {
    "duration": 151,
    "start_time": "2024-07-27T21:18:39.358Z"
   },
   {
    "duration": 3242,
    "start_time": "2024-07-27T21:18:39.512Z"
   },
   {
    "duration": 38,
    "start_time": "2024-07-27T21:18:42.757Z"
   },
   {
    "duration": 6,
    "start_time": "2024-07-27T21:18:42.826Z"
   },
   {
    "duration": 97,
    "start_time": "2024-07-27T21:18:42.840Z"
   },
   {
    "duration": 8002,
    "start_time": "2024-07-27T21:18:42.940Z"
   },
   {
    "duration": 259,
    "start_time": "2024-07-27T21:18:50.945Z"
   },
   {
    "duration": 5963,
    "start_time": "2024-07-27T21:18:51.207Z"
   },
   {
    "duration": 82,
    "start_time": "2024-07-27T21:18:57.174Z"
   },
   {
    "duration": 74,
    "start_time": "2024-07-27T21:18:57.259Z"
   },
   {
    "duration": 1492,
    "start_time": "2024-07-27T21:18:57.336Z"
   },
   {
    "duration": 65,
    "start_time": "2024-07-27T21:18:58.832Z"
   },
   {
    "duration": 890,
    "start_time": "2024-07-27T21:18:58.899Z"
   },
   {
    "duration": 37,
    "start_time": "2024-07-27T21:18:59.792Z"
   },
   {
    "duration": 517,
    "start_time": "2024-07-27T21:19:10.798Z"
   },
   {
    "duration": 8320,
    "start_time": "2024-07-27T21:19:47.390Z"
   },
   {
    "duration": 8242,
    "start_time": "2024-07-27T21:20:40.464Z"
   },
   {
    "duration": 8142,
    "start_time": "2024-07-27T21:22:12.954Z"
   },
   {
    "duration": 8055,
    "start_time": "2024-07-27T21:26:40.218Z"
   },
   {
    "duration": 8058,
    "start_time": "2024-07-27T21:26:57.971Z"
   },
   {
    "duration": 8366,
    "start_time": "2024-07-27T21:31:17.793Z"
   },
   {
    "duration": 8067,
    "start_time": "2024-07-27T21:34:53.088Z"
   },
   {
    "duration": 9,
    "start_time": "2024-07-27T21:36:14.142Z"
   },
   {
    "duration": 1590,
    "start_time": "2024-07-31T04:46:18.078Z"
   },
   {
    "duration": 52,
    "start_time": "2024-07-31T04:46:19.671Z"
   },
   {
    "duration": 18,
    "start_time": "2024-07-31T04:46:21.267Z"
   },
   {
    "duration": 69,
    "start_time": "2024-07-31T04:46:23.250Z"
   },
   {
    "duration": 1544,
    "start_time": "2024-07-31T05:02:33.713Z"
   },
   {
    "duration": 52,
    "start_time": "2024-07-31T05:02:35.262Z"
   },
   {
    "duration": 19,
    "start_time": "2024-07-31T05:02:35.317Z"
   },
   {
    "duration": 81,
    "start_time": "2024-07-31T05:02:35.340Z"
   },
   {
    "duration": 5,
    "start_time": "2024-07-31T05:02:35.426Z"
   },
   {
    "duration": 18,
    "start_time": "2024-07-31T05:02:35.435Z"
   },
   {
    "duration": 49,
    "start_time": "2024-07-31T05:02:35.456Z"
   },
   {
    "duration": 380,
    "start_time": "2024-07-31T05:02:35.509Z"
   },
   {
    "duration": 34,
    "start_time": "2024-07-31T05:02:42.786Z"
   },
   {
    "duration": 13,
    "start_time": "2024-07-31T05:02:47.942Z"
   },
   {
    "duration": 36,
    "start_time": "2024-07-31T05:05:15.537Z"
   },
   {
    "duration": 1543,
    "start_time": "2024-07-31T05:06:07.377Z"
   },
   {
    "duration": 43,
    "start_time": "2024-07-31T05:06:08.923Z"
   },
   {
    "duration": 39,
    "start_time": "2024-07-31T05:06:08.968Z"
   },
   {
    "duration": 55,
    "start_time": "2024-07-31T05:06:09.010Z"
   },
   {
    "duration": 25,
    "start_time": "2024-07-31T05:06:09.069Z"
   },
   {
    "duration": 18,
    "start_time": "2024-07-31T05:06:09.097Z"
   },
   {
    "duration": 16,
    "start_time": "2024-07-31T05:06:09.118Z"
   },
   {
    "duration": 384,
    "start_time": "2024-07-31T05:06:09.137Z"
   },
   {
    "duration": 37,
    "start_time": "2024-07-31T05:06:20.046Z"
   },
   {
    "duration": 1467,
    "start_time": "2024-07-31T05:07:17.963Z"
   },
   {
    "duration": 55,
    "start_time": "2024-07-31T05:07:19.436Z"
   },
   {
    "duration": 19,
    "start_time": "2024-07-31T05:07:19.494Z"
   },
   {
    "duration": 76,
    "start_time": "2024-07-31T05:07:19.517Z"
   },
   {
    "duration": 5,
    "start_time": "2024-07-31T05:07:19.596Z"
   },
   {
    "duration": 16,
    "start_time": "2024-07-31T05:07:19.604Z"
   },
   {
    "duration": 17,
    "start_time": "2024-07-31T05:07:19.623Z"
   },
   {
    "duration": 396,
    "start_time": "2024-07-31T05:07:19.643Z"
   },
   {
    "duration": 14,
    "start_time": "2024-07-31T05:07:20.043Z"
   },
   {
    "duration": 35,
    "start_time": "2024-07-31T05:07:20.061Z"
   },
   {
    "duration": 1434,
    "start_time": "2024-07-31T05:22:00.877Z"
   },
   {
    "duration": 42,
    "start_time": "2024-07-31T05:22:02.315Z"
   },
   {
    "duration": 36,
    "start_time": "2024-07-31T05:22:02.361Z"
   },
   {
    "duration": 50,
    "start_time": "2024-07-31T05:22:02.400Z"
   },
   {
    "duration": 5,
    "start_time": "2024-07-31T05:22:02.455Z"
   },
   {
    "duration": 23,
    "start_time": "2024-07-31T05:22:02.489Z"
   },
   {
    "duration": 26,
    "start_time": "2024-07-31T05:22:02.515Z"
   },
   {
    "duration": 373,
    "start_time": "2024-07-31T05:22:02.543Z"
   },
   {
    "duration": 13,
    "start_time": "2024-07-31T05:22:02.920Z"
   },
   {
    "duration": 13,
    "start_time": "2024-07-31T05:22:02.935Z"
   },
   {
    "duration": 44,
    "start_time": "2024-07-31T05:22:02.951Z"
   },
   {
    "duration": 7,
    "start_time": "2024-07-31T05:22:02.998Z"
   },
   {
    "duration": 244,
    "start_time": "2024-07-31T05:22:03.008Z"
   },
   {
    "duration": 8,
    "start_time": "2024-07-31T05:22:03.257Z"
   },
   {
    "duration": 28,
    "start_time": "2024-07-31T05:22:03.268Z"
   },
   {
    "duration": 39,
    "start_time": "2024-07-31T05:22:17.089Z"
   },
   {
    "duration": 25,
    "start_time": "2024-07-31T05:22:20.161Z"
   },
   {
    "duration": 365,
    "start_time": "2024-08-01T16:15:58.221Z"
   },
   {
    "duration": 5436,
    "start_time": "2024-08-01T16:16:04.318Z"
   },
   {
    "duration": 67,
    "start_time": "2024-08-01T16:16:09.768Z"
   },
   {
    "duration": 21,
    "start_time": "2024-08-01T16:16:09.839Z"
   },
   {
    "duration": 67,
    "start_time": "2024-08-01T16:16:09.870Z"
   },
   {
    "duration": 7,
    "start_time": "2024-08-01T16:16:13.021Z"
   },
   {
    "duration": 140,
    "start_time": "2024-08-01T16:21:59.223Z"
   },
   {
    "duration": 5,
    "start_time": "2024-08-01T16:26:11.688Z"
   },
   {
    "duration": 6,
    "start_time": "2024-08-01T16:27:20.516Z"
   },
   {
    "duration": 39,
    "start_time": "2024-08-01T16:27:20.526Z"
   },
   {
    "duration": 17,
    "start_time": "2024-08-01T16:27:20.568Z"
   },
   {
    "duration": 50,
    "start_time": "2024-08-01T16:27:20.587Z"
   },
   {
    "duration": 32,
    "start_time": "2024-08-01T16:27:20.641Z"
   },
   {
    "duration": 16,
    "start_time": "2024-08-01T16:27:20.676Z"
   },
   {
    "duration": 15,
    "start_time": "2024-08-01T16:27:20.695Z"
   },
   {
    "duration": 321,
    "start_time": "2024-08-01T16:27:20.713Z"
   },
   {
    "duration": 5,
    "start_time": "2024-08-01T16:27:21.037Z"
   },
   {
    "duration": 29,
    "start_time": "2024-08-01T16:27:21.045Z"
   },
   {
    "duration": 791,
    "start_time": "2024-08-01T16:27:21.077Z"
   },
   {
    "duration": 6,
    "start_time": "2024-08-01T16:27:52.805Z"
   },
   {
    "duration": 37,
    "start_time": "2024-08-01T16:27:52.831Z"
   },
   {
    "duration": 17,
    "start_time": "2024-08-01T16:27:52.872Z"
   },
   {
    "duration": 50,
    "start_time": "2024-08-01T16:27:52.892Z"
   },
   {
    "duration": 27,
    "start_time": "2024-08-01T16:27:52.944Z"
   },
   {
    "duration": 17,
    "start_time": "2024-08-01T16:27:52.977Z"
   },
   {
    "duration": 14,
    "start_time": "2024-08-01T16:27:52.997Z"
   },
   {
    "duration": 304,
    "start_time": "2024-08-01T16:27:53.014Z"
   },
   {
    "duration": 6,
    "start_time": "2024-08-01T16:27:53.321Z"
   },
   {
    "duration": 4,
    "start_time": "2024-08-01T16:27:53.330Z"
   },
   {
    "duration": 14,
    "start_time": "2024-08-01T16:27:57.356Z"
   },
   {
    "duration": 5,
    "start_time": "2024-08-01T16:29:12.250Z"
   },
   {
    "duration": 40,
    "start_time": "2024-08-01T16:29:12.263Z"
   },
   {
    "duration": 17,
    "start_time": "2024-08-01T16:29:12.307Z"
   },
   {
    "duration": 83,
    "start_time": "2024-08-01T16:29:12.327Z"
   },
   {
    "duration": 7,
    "start_time": "2024-08-01T16:29:12.414Z"
   },
   {
    "duration": 15,
    "start_time": "2024-08-01T16:29:12.424Z"
   },
   {
    "duration": 16,
    "start_time": "2024-08-01T16:29:12.474Z"
   },
   {
    "duration": 279,
    "start_time": "2024-08-01T16:29:12.493Z"
   },
   {
    "duration": 6,
    "start_time": "2024-08-01T16:29:12.776Z"
   },
   {
    "duration": 13,
    "start_time": "2024-08-01T16:29:12.785Z"
   },
   {
    "duration": 1056,
    "start_time": "2024-08-01T16:29:12.804Z"
   },
   {
    "duration": 0,
    "start_time": "2024-08-01T16:29:13.863Z"
   },
   {
    "duration": 0,
    "start_time": "2024-08-01T16:29:13.868Z"
   },
   {
    "duration": 0,
    "start_time": "2024-08-01T16:29:13.870Z"
   },
   {
    "duration": 0,
    "start_time": "2024-08-01T16:29:13.872Z"
   },
   {
    "duration": 0,
    "start_time": "2024-08-01T16:29:13.875Z"
   },
   {
    "duration": 0,
    "start_time": "2024-08-01T16:29:13.877Z"
   },
   {
    "duration": 0,
    "start_time": "2024-08-01T16:29:13.880Z"
   },
   {
    "duration": 0,
    "start_time": "2024-08-01T16:29:13.882Z"
   },
   {
    "duration": 0,
    "start_time": "2024-08-01T16:29:13.884Z"
   },
   {
    "duration": 0,
    "start_time": "2024-08-01T16:29:13.886Z"
   },
   {
    "duration": 0,
    "start_time": "2024-08-01T16:29:13.888Z"
   },
   {
    "duration": 0,
    "start_time": "2024-08-01T16:29:13.890Z"
   },
   {
    "duration": 0,
    "start_time": "2024-08-01T16:29:13.892Z"
   },
   {
    "duration": 0,
    "start_time": "2024-08-01T16:29:13.895Z"
   },
   {
    "duration": 0,
    "start_time": "2024-08-01T16:29:13.897Z"
   },
   {
    "duration": 0,
    "start_time": "2024-08-01T16:29:13.899Z"
   },
   {
    "duration": 0,
    "start_time": "2024-08-01T16:29:13.902Z"
   },
   {
    "duration": 0,
    "start_time": "2024-08-01T16:29:13.970Z"
   },
   {
    "duration": 0,
    "start_time": "2024-08-01T16:29:13.972Z"
   },
   {
    "duration": 0,
    "start_time": "2024-08-01T16:29:13.975Z"
   },
   {
    "duration": 7,
    "start_time": "2024-08-01T16:29:40.140Z"
   },
   {
    "duration": 42,
    "start_time": "2024-08-01T16:29:40.150Z"
   },
   {
    "duration": 16,
    "start_time": "2024-08-01T16:29:40.195Z"
   },
   {
    "duration": 83,
    "start_time": "2024-08-01T16:29:40.216Z"
   },
   {
    "duration": 6,
    "start_time": "2024-08-01T16:29:40.303Z"
   },
   {
    "duration": 16,
    "start_time": "2024-08-01T16:29:40.313Z"
   },
   {
    "duration": 43,
    "start_time": "2024-08-01T16:29:40.332Z"
   },
   {
    "duration": 266,
    "start_time": "2024-08-01T16:29:40.378Z"
   },
   {
    "duration": 6,
    "start_time": "2024-08-01T16:29:40.647Z"
   },
   {
    "duration": 13,
    "start_time": "2024-08-01T16:29:40.667Z"
   },
   {
    "duration": 7,
    "start_time": "2024-08-01T16:29:40.683Z"
   },
   {
    "duration": 258,
    "start_time": "2024-08-01T16:29:40.693Z"
   },
   {
    "duration": 17,
    "start_time": "2024-08-01T16:29:40.954Z"
   },
   {
    "duration": 8,
    "start_time": "2024-08-01T16:29:40.974Z"
   },
   {
    "duration": 3748,
    "start_time": "2024-08-01T16:29:40.984Z"
   },
   {
    "duration": 129,
    "start_time": "2024-08-01T16:29:44.735Z"
   },
   {
    "duration": 2758,
    "start_time": "2024-08-01T16:29:44.866Z"
   },
   {
    "duration": 44,
    "start_time": "2024-08-01T16:29:47.627Z"
   },
   {
    "duration": 8,
    "start_time": "2024-08-01T16:29:47.674Z"
   },
   {
    "duration": 28,
    "start_time": "2024-08-01T16:29:47.685Z"
   },
   {
    "duration": 7625,
    "start_time": "2024-08-01T16:29:47.715Z"
   },
   {
    "duration": 227,
    "start_time": "2024-08-01T16:29:55.343Z"
   },
   {
    "duration": 5160,
    "start_time": "2024-08-01T16:29:55.573Z"
   },
   {
    "duration": 75,
    "start_time": "2024-08-01T16:30:00.738Z"
   },
   {
    "duration": 17,
    "start_time": "2024-08-01T16:30:00.817Z"
   },
   {
    "duration": 1370,
    "start_time": "2024-08-01T16:30:00.837Z"
   },
   {
    "duration": 68,
    "start_time": "2024-08-01T16:30:02.210Z"
   },
   {
    "duration": 764,
    "start_time": "2024-08-01T16:30:02.286Z"
   },
   {
    "duration": 25,
    "start_time": "2024-08-01T16:30:03.053Z"
   },
   {
    "duration": 7695,
    "start_time": "2024-08-01T16:30:03.082Z"
   },
   {
    "duration": 5211,
    "start_time": "2024-08-04T23:57:53.835Z"
   },
   {
    "duration": 59,
    "start_time": "2024-08-04T23:57:59.050Z"
   },
   {
    "duration": 18,
    "start_time": "2024-08-04T23:58:04.571Z"
   },
   {
    "duration": 52,
    "start_time": "2024-08-04T23:58:06.619Z"
   },
   {
    "duration": 7,
    "start_time": "2024-08-04T23:58:13.085Z"
   },
   {
    "duration": 14,
    "start_time": "2024-08-04T23:58:31.487Z"
   },
   {
    "duration": 16,
    "start_time": "2024-08-04T23:58:33.203Z"
   },
   {
    "duration": 282,
    "start_time": "2024-08-04T23:58:35.030Z"
   },
   {
    "duration": 30,
    "start_time": "2024-08-04T23:58:41.294Z"
   }
  ],
  "kernelspec": {
   "display_name": "Python 3 (ipykernel)",
   "language": "python",
   "name": "python3"
  },
  "language_info": {
   "codemirror_mode": {
    "name": "ipython",
    "version": 3
   },
   "file_extension": ".py",
   "mimetype": "text/x-python",
   "name": "python",
   "nbconvert_exporter": "python",
   "pygments_lexer": "ipython3",
   "version": "3.11.7"
  },
  "toc": {
   "base_numbering": 1,
   "nav_menu": {},
   "number_sections": true,
   "sideBar": true,
   "skip_h1_title": true,
   "title_cell": "Table of Contents",
   "title_sidebar": "Contents",
   "toc_cell": false,
   "toc_position": {},
   "toc_section_display": true,
   "toc_window_display": false
  }
 },
 "nbformat": 4,
 "nbformat_minor": 2
}
